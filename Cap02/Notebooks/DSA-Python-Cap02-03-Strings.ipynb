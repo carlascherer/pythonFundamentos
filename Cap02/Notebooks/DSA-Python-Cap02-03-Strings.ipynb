{
 "cells": [
  {
   "cell_type": "markdown",
   "metadata": {},
   "source": [
    "# <font color='blue'>Data Science Academy - Python Fundamentos - Capítulo 2</font>\n",
    "\n",
    "## Download: http://github.com/dsacademybr"
   ]
  },
  {
   "cell_type": "markdown",
   "metadata": {},
   "source": [
    "## Strings"
   ]
  },
  {
   "cell_type": "markdown",
   "metadata": {},
   "source": [
    "### Criando uma String\n",
    "Para criar uma string em Python você pode usar aspas simples ou duplas. Por exemplo:"
   ]
  },
  {
   "cell_type": "code",
   "execution_count": 1,
   "metadata": {},
   "outputs": [
    {
     "data": {
      "text/plain": [
       "'Oi'"
      ]
     },
     "execution_count": 1,
     "metadata": {},
     "output_type": "execute_result"
    }
   ],
   "source": [
    "# Uma única palavra\n",
    "'Oi'"
   ]
  },
  {
   "cell_type": "code",
   "execution_count": 2,
   "metadata": {},
   "outputs": [
    {
     "data": {
      "text/plain": [
       "'Criando uma string em Python'"
      ]
     },
     "execution_count": 2,
     "metadata": {},
     "output_type": "execute_result"
    }
   ],
   "source": [
    "# Uma frase\n",
    "'Criando uma string em Python'"
   ]
  },
  {
   "cell_type": "code",
   "execution_count": 3,
   "metadata": {},
   "outputs": [
    {
     "data": {
      "text/plain": [
       "'Podemos usar aspas duplas ou simples para strings em Python'"
      ]
     },
     "execution_count": 3,
     "metadata": {},
     "output_type": "execute_result"
    }
   ],
   "source": [
    "# Podemos usar aspas duplas\n",
    "\"Podemos usar aspas duplas ou simples para strings em Python\""
   ]
  },
  {
   "cell_type": "code",
   "execution_count": 4,
   "metadata": {},
   "outputs": [
    {
     "data": {
      "text/plain": [
       "\"Testando strings em 'Python'\""
      ]
     },
     "execution_count": 4,
     "metadata": {},
     "output_type": "execute_result"
    }
   ],
   "source": [
    "# Você pode combinar aspas duplas e simples\n",
    "\"Testando strings em 'Python'\""
   ]
  },
  {
   "cell_type": "code",
   "execution_count": 5,
   "metadata": {},
   "outputs": [],
   "source": [
    "texto = \"carla scherer\""
   ]
  },
  {
   "cell_type": "code",
   "execution_count": 6,
   "metadata": {},
   "outputs": [
    {
     "data": {
      "text/plain": [
       "' '"
      ]
     },
     "execution_count": 6,
     "metadata": {},
     "output_type": "execute_result"
    }
   ],
   "source": [
    "texto[5]"
   ]
  },
  {
   "cell_type": "code",
   "execution_count": 15,
   "metadata": {},
   "outputs": [
    {
     "ename": "SyntaxError",
     "evalue": "invalid syntax (<ipython-input-15-4dff7d913d19>, line 1)",
     "output_type": "error",
     "traceback": [
      "\u001b[1;36m  File \u001b[1;32m\"<ipython-input-15-4dff7d913d19>\"\u001b[1;36m, line \u001b[1;32m1\u001b[0m\n\u001b[1;33m    'testando 'string''\u001b[0m\n\u001b[1;37m                    ^\u001b[0m\n\u001b[1;31mSyntaxError\u001b[0m\u001b[1;31m:\u001b[0m invalid syntax\n"
     ]
    }
   ],
   "source": [
    "'testando 'string''"
   ]
  },
  {
   "cell_type": "code",
   "execution_count": 16,
   "metadata": {},
   "outputs": [
    {
     "ename": "SyntaxError",
     "evalue": "invalid syntax (<ipython-input-16-f2f64e390ae0>, line 1)",
     "output_type": "error",
     "traceback": [
      "\u001b[1;36m  File \u001b[1;32m\"<ipython-input-16-f2f64e390ae0>\"\u001b[1;36m, line \u001b[1;32m1\u001b[0m\n\u001b[1;33m    'testando 'carla''\u001b[0m\n\u001b[1;37m                   ^\u001b[0m\n\u001b[1;31mSyntaxError\u001b[0m\u001b[1;31m:\u001b[0m invalid syntax\n"
     ]
    }
   ],
   "source": [
    "'testando 'carla''"
   ]
  },
  {
   "cell_type": "markdown",
   "metadata": {},
   "source": [
    "### Imprimindo uma String"
   ]
  },
  {
   "cell_type": "code",
   "execution_count": 7,
   "metadata": {},
   "outputs": [
    {
     "name": "stdout",
     "output_type": "stream",
     "text": [
      "Testando Strings em Python\n"
     ]
    }
   ],
   "source": [
    "print ('Testando Strings em Python')"
   ]
  },
  {
   "cell_type": "code",
   "execution_count": 8,
   "metadata": {},
   "outputs": [
    {
     "name": "stdout",
     "output_type": "stream",
     "text": [
      "Testando \n",
      "Strings \n",
      "em \n",
      "Python\n"
     ]
    }
   ],
   "source": [
    "print ('Testando \\nStrings \\nem \\nPython')"
   ]
  },
  {
   "cell_type": "code",
   "execution_count": 9,
   "metadata": {},
   "outputs": [
    {
     "name": "stdout",
     "output_type": "stream",
     "text": [
      "\n",
      "\n"
     ]
    }
   ],
   "source": [
    "print ('\\n')"
   ]
  },
  {
   "cell_type": "code",
   "execution_count": 10,
   "metadata": {},
   "outputs": [],
   "source": [
    "teste = '\\n'"
   ]
  },
  {
   "cell_type": "code",
   "execution_count": 11,
   "metadata": {},
   "outputs": [
    {
     "data": {
      "text/plain": [
       "'\\n'"
      ]
     },
     "execution_count": 11,
     "metadata": {},
     "output_type": "execute_result"
    }
   ],
   "source": [
    "teste[0]"
   ]
  },
  {
   "cell_type": "code",
   "execution_count": 12,
   "metadata": {},
   "outputs": [],
   "source": [
    "teste = 'Testando \\nStrings \\nem \\nPython'"
   ]
  },
  {
   "cell_type": "code",
   "execution_count": 13,
   "metadata": {},
   "outputs": [
    {
     "data": {
      "text/plain": [
       "'Testando \\nStrings \\nem \\nPython'"
      ]
     },
     "execution_count": 13,
     "metadata": {},
     "output_type": "execute_result"
    }
   ],
   "source": [
    "teste"
   ]
  },
  {
   "cell_type": "code",
   "execution_count": 14,
   "metadata": {},
   "outputs": [
    {
     "name": "stdout",
     "output_type": "stream",
     "text": [
      "Testando \n",
      "Strings \n",
      "em \n",
      "Python\n"
     ]
    }
   ],
   "source": [
    "print(teste)"
   ]
  },
  {
   "cell_type": "markdown",
   "metadata": {},
   "source": [
    "### Indexando Strings"
   ]
  },
  {
   "cell_type": "code",
   "execution_count": 17,
   "metadata": {},
   "outputs": [],
   "source": [
    "# Atribuindo uma string\n",
    "s = 'Data Science Academy'"
   ]
  },
  {
   "cell_type": "code",
   "execution_count": 18,
   "metadata": {},
   "outputs": [
    {
     "name": "stdout",
     "output_type": "stream",
     "text": [
      "Data Science Academy\n"
     ]
    }
   ],
   "source": [
    "print(s)"
   ]
  },
  {
   "cell_type": "code",
   "execution_count": 19,
   "metadata": {},
   "outputs": [
    {
     "data": {
      "text/plain": [
       "'D'"
      ]
     },
     "execution_count": 19,
     "metadata": {},
     "output_type": "execute_result"
    }
   ],
   "source": [
    "# Primeiro elemento da string. \n",
    "s[0]"
   ]
  },
  {
   "cell_type": "code",
   "execution_count": 20,
   "metadata": {},
   "outputs": [
    {
     "data": {
      "text/plain": [
       "'a'"
      ]
     },
     "execution_count": 20,
     "metadata": {},
     "output_type": "execute_result"
    }
   ],
   "source": [
    "s[1]"
   ]
  },
  {
   "cell_type": "code",
   "execution_count": 21,
   "metadata": {},
   "outputs": [
    {
     "data": {
      "text/plain": [
       "'t'"
      ]
     },
     "execution_count": 21,
     "metadata": {},
     "output_type": "execute_result"
    }
   ],
   "source": [
    "s[2]"
   ]
  },
  {
   "cell_type": "markdown",
   "metadata": {},
   "source": [
    "Podemos usar um : para executar um slicing que faz a leitura de tudo até um ponto designado. Por exemplo:"
   ]
  },
  {
   "cell_type": "code",
   "execution_count": 22,
   "metadata": {},
   "outputs": [
    {
     "data": {
      "text/plain": [
       "'ata Science Academy'"
      ]
     },
     "execution_count": 22,
     "metadata": {},
     "output_type": "execute_result"
    }
   ],
   "source": [
    "# Retorna todos os elementos da string, começando pela posição (lembre-se que Python começa a indexação pela posição 0),\n",
    "# até o fim da string.\n",
    "s[1:]"
   ]
  },
  {
   "cell_type": "code",
   "execution_count": 23,
   "metadata": {},
   "outputs": [
    {
     "data": {
      "text/plain": [
       "'Data Science Academy'"
      ]
     },
     "execution_count": 23,
     "metadata": {},
     "output_type": "execute_result"
    }
   ],
   "source": [
    "# A string original permanece inalterada\n",
    "s"
   ]
  },
  {
   "cell_type": "code",
   "execution_count": 24,
   "metadata": {},
   "outputs": [
    {
     "data": {
      "text/plain": [
       "'Dat'"
      ]
     },
     "execution_count": 24,
     "metadata": {},
     "output_type": "execute_result"
    }
   ],
   "source": [
    "# Retorna tudo até a posição 3\n",
    "s[:3]"
   ]
  },
  {
   "cell_type": "code",
   "execution_count": 25,
   "metadata": {},
   "outputs": [
    {
     "data": {
      "text/plain": [
       "'Data Science Academy'"
      ]
     },
     "execution_count": 25,
     "metadata": {},
     "output_type": "execute_result"
    }
   ],
   "source": [
    "s[:]"
   ]
  },
  {
   "cell_type": "code",
   "execution_count": 26,
   "metadata": {},
   "outputs": [
    {
     "data": {
      "text/plain": [
       "'y'"
      ]
     },
     "execution_count": 26,
     "metadata": {},
     "output_type": "execute_result"
    }
   ],
   "source": [
    "# Nós também podemos usar a indexação negativa e ler de trás para frente.\n",
    "s[-1]"
   ]
  },
  {
   "cell_type": "code",
   "execution_count": 27,
   "metadata": {},
   "outputs": [
    {
     "data": {
      "text/plain": [
       "'Data Science Academ'"
      ]
     },
     "execution_count": 27,
     "metadata": {},
     "output_type": "execute_result"
    }
   ],
   "source": [
    "# Retornar tudo, exceto a última letra\n",
    "s[:-1]"
   ]
  },
  {
   "cell_type": "code",
   "execution_count": 28,
   "metadata": {},
   "outputs": [
    {
     "data": {
      "text/plain": [
       "'Data Science Acade'"
      ]
     },
     "execution_count": 28,
     "metadata": {},
     "output_type": "execute_result"
    }
   ],
   "source": [
    "s[:-2]"
   ]
  },
  {
   "cell_type": "markdown",
   "metadata": {},
   "source": [
    "Nós também podemos usar a notação de índice e fatiar a string em pedaços específicos (o padrão é 1). Por exemplo, podemos usar dois pontos duas vezes em uma linha e, em seguida, um número que especifica a frequência para retornar elementos. Por exemplo:"
   ]
  },
  {
   "cell_type": "code",
   "execution_count": 29,
   "metadata": {},
   "outputs": [
    {
     "data": {
      "text/plain": [
       "'Data Science Academy'"
      ]
     },
     "execution_count": 29,
     "metadata": {},
     "output_type": "execute_result"
    }
   ],
   "source": [
    "s[::1]"
   ]
  },
  {
   "cell_type": "code",
   "execution_count": 30,
   "metadata": {},
   "outputs": [
    {
     "data": {
      "text/plain": [
       "'Dt cec cdm'"
      ]
     },
     "execution_count": 30,
     "metadata": {},
     "output_type": "execute_result"
    }
   ],
   "source": [
    "s[::2]"
   ]
  },
  {
   "cell_type": "code",
   "execution_count": 31,
   "metadata": {},
   "outputs": [
    {
     "data": {
      "text/plain": [
       "'ymedacA ecneicS ataD'"
      ]
     },
     "execution_count": 31,
     "metadata": {},
     "output_type": "execute_result"
    }
   ],
   "source": [
    "s[::-1]"
   ]
  },
  {
   "cell_type": "code",
   "execution_count": 32,
   "metadata": {},
   "outputs": [
    {
     "data": {
      "text/plain": [
       "'yeaAeniSaa'"
      ]
     },
     "execution_count": 32,
     "metadata": {},
     "output_type": "execute_result"
    }
   ],
   "source": [
    "s[::-2]"
   ]
  },
  {
   "cell_type": "markdown",
   "metadata": {},
   "source": [
    "### Propriedades de Strings"
   ]
  },
  {
   "cell_type": "code",
   "execution_count": 33,
   "metadata": {},
   "outputs": [
    {
     "data": {
      "text/plain": [
       "'Data Science Academy'"
      ]
     },
     "execution_count": 33,
     "metadata": {},
     "output_type": "execute_result"
    }
   ],
   "source": [
    "s"
   ]
  },
  {
   "cell_type": "code",
   "execution_count": 34,
   "metadata": {},
   "outputs": [
    {
     "ename": "TypeError",
     "evalue": "'str' object does not support item assignment",
     "output_type": "error",
     "traceback": [
      "\u001b[1;31m---------------------------------------------------------------------------\u001b[0m",
      "\u001b[1;31mTypeError\u001b[0m                                 Traceback (most recent call last)",
      "\u001b[1;32m<ipython-input-34-3bfedcfbac44>\u001b[0m in \u001b[0;36m<module>\u001b[1;34m()\u001b[0m\n\u001b[0;32m      1\u001b[0m \u001b[1;31m# Alterando um caracter\u001b[0m\u001b[1;33m\u001b[0m\u001b[1;33m\u001b[0m\u001b[0m\n\u001b[1;32m----> 2\u001b[1;33m \u001b[0ms\u001b[0m\u001b[1;33m[\u001b[0m\u001b[1;36m0\u001b[0m\u001b[1;33m]\u001b[0m \u001b[1;33m=\u001b[0m \u001b[1;34m'x'\u001b[0m\u001b[1;33m\u001b[0m\u001b[0m\n\u001b[0m",
      "\u001b[1;31mTypeError\u001b[0m: 'str' object does not support item assignment"
     ]
    }
   ],
   "source": [
    "# Alterando um caracter\n",
    "s[0] = 'x'"
   ]
  },
  {
   "cell_type": "code",
   "execution_count": 35,
   "metadata": {},
   "outputs": [
    {
     "data": {
      "text/plain": [
       "'Data Science Academy é a melhor maneira de estar preparado para o mercado de trabalho em Ciência de Dados!'"
      ]
     },
     "execution_count": 35,
     "metadata": {},
     "output_type": "execute_result"
    }
   ],
   "source": [
    "# Concatenando strings\n",
    "s + ' é a melhor maneira de estar preparado para o mercado de trabalho em Ciência de Dados!'"
   ]
  },
  {
   "cell_type": "code",
   "execution_count": 36,
   "metadata": {},
   "outputs": [],
   "source": [
    "s = s + ' é a melhor maneira de estar preparado para o mercado de trabalho em Ciência de Dados!'"
   ]
  },
  {
   "cell_type": "code",
   "execution_count": 37,
   "metadata": {},
   "outputs": [
    {
     "name": "stdout",
     "output_type": "stream",
     "text": [
      "Data Science Academy é a melhor maneira de estar preparado para o mercado de trabalho em Ciência de Dados!\n"
     ]
    }
   ],
   "source": [
    "print(s)"
   ]
  },
  {
   "cell_type": "code",
   "execution_count": 38,
   "metadata": {},
   "outputs": [],
   "source": [
    "# Podemos usar o símbolo de multiplicação para criar repetição!\n",
    "letra = 'w'"
   ]
  },
  {
   "cell_type": "code",
   "execution_count": 39,
   "metadata": {},
   "outputs": [
    {
     "data": {
      "text/plain": [
       "'www'"
      ]
     },
     "execution_count": 39,
     "metadata": {},
     "output_type": "execute_result"
    }
   ],
   "source": [
    "letra * 3"
   ]
  },
  {
   "cell_type": "code",
   "execution_count": 40,
   "metadata": {},
   "outputs": [
    {
     "data": {
      "text/plain": [
       "'ww'"
      ]
     },
     "execution_count": 40,
     "metadata": {},
     "output_type": "execute_result"
    }
   ],
   "source": [
    "letra + letra"
   ]
  },
  {
   "cell_type": "code",
   "execution_count": null,
   "metadata": {},
   "outputs": [],
   "source": []
  },
  {
   "cell_type": "markdown",
   "metadata": {},
   "source": [
    "### Funções Built-in de Strings"
   ]
  },
  {
   "cell_type": "code",
   "execution_count": 41,
   "metadata": {},
   "outputs": [
    {
     "data": {
      "text/plain": [
       "'Data Science Academy é a melhor maneira de estar preparado para o mercado de trabalho em Ciência de Dados!'"
      ]
     },
     "execution_count": 41,
     "metadata": {},
     "output_type": "execute_result"
    }
   ],
   "source": [
    "s"
   ]
  },
  {
   "cell_type": "code",
   "execution_count": 42,
   "metadata": {},
   "outputs": [
    {
     "data": {
      "text/plain": [
       "'DATA SCIENCE ACADEMY É A MELHOR MANEIRA DE ESTAR PREPARADO PARA O MERCADO DE TRABALHO EM CIÊNCIA DE DADOS!'"
      ]
     },
     "execution_count": 42,
     "metadata": {},
     "output_type": "execute_result"
    }
   ],
   "source": [
    "# Upper Case \n",
    "s.upper()"
   ]
  },
  {
   "cell_type": "code",
   "execution_count": 43,
   "metadata": {},
   "outputs": [
    {
     "data": {
      "text/plain": [
       "'data science academy é a melhor maneira de estar preparado para o mercado de trabalho em ciência de dados!'"
      ]
     },
     "execution_count": 43,
     "metadata": {},
     "output_type": "execute_result"
    }
   ],
   "source": [
    "# Lower case\n",
    "s.lower()"
   ]
  },
  {
   "cell_type": "code",
   "execution_count": 44,
   "metadata": {},
   "outputs": [
    {
     "data": {
      "text/plain": [
       "['Data',\n",
       " 'Science',\n",
       " 'Academy',\n",
       " 'é',\n",
       " 'a',\n",
       " 'melhor',\n",
       " 'maneira',\n",
       " 'de',\n",
       " 'estar',\n",
       " 'preparado',\n",
       " 'para',\n",
       " 'o',\n",
       " 'mercado',\n",
       " 'de',\n",
       " 'trabalho',\n",
       " 'em',\n",
       " 'Ciência',\n",
       " 'de',\n",
       " 'Dados!']"
      ]
     },
     "execution_count": 44,
     "metadata": {},
     "output_type": "execute_result"
    }
   ],
   "source": [
    "# Dividir uma string por espaços em branco (padrão)\n",
    "s.split()"
   ]
  },
  {
   "cell_type": "code",
   "execution_count": 45,
   "metadata": {
    "scrolled": true
   },
   "outputs": [
    {
     "data": {
      "text/plain": [
       "['Data Science Academ',\n",
       " ' é a melhor maneira de estar preparado para o mercado de trabalho em Ciência de Dados!']"
      ]
     },
     "execution_count": 45,
     "metadata": {},
     "output_type": "execute_result"
    }
   ],
   "source": [
    "# Dividir uma string por um elemento específico\n",
    "s.split('y')"
   ]
  },
  {
   "cell_type": "code",
   "execution_count": 49,
   "metadata": {},
   "outputs": [
    {
     "data": {
      "text/plain": [
       "1"
      ]
     },
     "execution_count": 49,
     "metadata": {},
     "output_type": "execute_result"
    }
   ],
   "source": [
    "s.count(\"estar\")"
   ]
  },
  {
   "cell_type": "code",
   "execution_count": 54,
   "metadata": {},
   "outputs": [
    {
     "data": {
      "text/plain": [
       "'Data Science Academy é a melhor maneira de estar preparado para o mercado de trabalho em Ciência de Dados!'"
      ]
     },
     "execution_count": 54,
     "metadata": {},
     "output_type": "execute_result"
    }
   ],
   "source": [
    "s"
   ]
  },
  {
   "cell_type": "code",
   "execution_count": 60,
   "metadata": {},
   "outputs": [
    {
     "data": {
      "text/plain": [
       "3"
      ]
     },
     "execution_count": 60,
     "metadata": {},
     "output_type": "execute_result"
    }
   ],
   "source": [
    "s.find('a',3)"
   ]
  },
  {
   "cell_type": "code",
   "execution_count": null,
   "metadata": {},
   "outputs": [],
   "source": []
  },
  {
   "cell_type": "markdown",
   "metadata": {},
   "source": [
    "### Funções String"
   ]
  },
  {
   "cell_type": "code",
   "execution_count": 61,
   "metadata": {},
   "outputs": [],
   "source": [
    "s = 'seja bem vindo ao universo de python'"
   ]
  },
  {
   "cell_type": "code",
   "execution_count": 62,
   "metadata": {},
   "outputs": [
    {
     "data": {
      "text/plain": [
       "'Seja bem vindo ao universo de python'"
      ]
     },
     "execution_count": 62,
     "metadata": {},
     "output_type": "execute_result"
    }
   ],
   "source": [
    "s.capitalize()"
   ]
  },
  {
   "cell_type": "code",
   "execution_count": 63,
   "metadata": {},
   "outputs": [
    {
     "data": {
      "text/plain": [
       "2"
      ]
     },
     "execution_count": 63,
     "metadata": {},
     "output_type": "execute_result"
    }
   ],
   "source": [
    "s.count('a')"
   ]
  },
  {
   "cell_type": "code",
   "execution_count": 64,
   "metadata": {},
   "outputs": [
    {
     "data": {
      "text/plain": [
       "30"
      ]
     },
     "execution_count": 64,
     "metadata": {},
     "output_type": "execute_result"
    }
   ],
   "source": [
    "s.find('p')"
   ]
  },
  {
   "cell_type": "code",
   "execution_count": 72,
   "metadata": {},
   "outputs": [
    {
     "data": {
      "text/plain": [
       "'zzzzzzzseja bem vindo ao universo de pythonzzzzzzz'"
      ]
     },
     "execution_count": 72,
     "metadata": {},
     "output_type": "execute_result"
    }
   ],
   "source": [
    "s.center(50, 'z')"
   ]
  },
  {
   "cell_type": "code",
   "execution_count": null,
   "metadata": {},
   "outputs": [],
   "source": []
  },
  {
   "cell_type": "code",
   "execution_count": 73,
   "metadata": {},
   "outputs": [
    {
     "data": {
      "text/plain": [
       "False"
      ]
     },
     "execution_count": 73,
     "metadata": {},
     "output_type": "execute_result"
    }
   ],
   "source": [
    "s.isalnum()"
   ]
  },
  {
   "cell_type": "code",
   "execution_count": 74,
   "metadata": {},
   "outputs": [
    {
     "data": {
      "text/plain": [
       "False"
      ]
     },
     "execution_count": 74,
     "metadata": {},
     "output_type": "execute_result"
    }
   ],
   "source": [
    "s.isalpha()"
   ]
  },
  {
   "cell_type": "code",
   "execution_count": 75,
   "metadata": {},
   "outputs": [
    {
     "data": {
      "text/plain": [
       "True"
      ]
     },
     "execution_count": 75,
     "metadata": {},
     "output_type": "execute_result"
    }
   ],
   "source": [
    "s.islower()"
   ]
  },
  {
   "cell_type": "code",
   "execution_count": 76,
   "metadata": {},
   "outputs": [
    {
     "data": {
      "text/plain": [
       "False"
      ]
     },
     "execution_count": 76,
     "metadata": {},
     "output_type": "execute_result"
    }
   ],
   "source": [
    "s.isspace()"
   ]
  },
  {
   "cell_type": "code",
   "execution_count": 77,
   "metadata": {},
   "outputs": [
    {
     "data": {
      "text/plain": [
       "False"
      ]
     },
     "execution_count": 77,
     "metadata": {},
     "output_type": "execute_result"
    }
   ],
   "source": [
    "s.endswith('o')"
   ]
  },
  {
   "cell_type": "code",
   "execution_count": 79,
   "metadata": {},
   "outputs": [
    {
     "data": {
      "text/plain": [
       "('se', 'j', 'a bem vindo ao universo de python')"
      ]
     },
     "execution_count": 79,
     "metadata": {},
     "output_type": "execute_result"
    }
   ],
   "source": [
    "s.partition('j')"
   ]
  },
  {
   "cell_type": "markdown",
   "metadata": {},
   "source": [
    "### Comparando Strings"
   ]
  },
  {
   "cell_type": "code",
   "execution_count": 80,
   "metadata": {},
   "outputs": [
    {
     "name": "stdout",
     "output_type": "stream",
     "text": [
      "False\n"
     ]
    }
   ],
   "source": [
    "print(\"Python\" == \"R\")"
   ]
  },
  {
   "cell_type": "code",
   "execution_count": 81,
   "metadata": {},
   "outputs": [
    {
     "name": "stdout",
     "output_type": "stream",
     "text": [
      "True\n"
     ]
    }
   ],
   "source": [
    "print(\"Python\" == \"Python\")"
   ]
  },
  {
   "cell_type": "code",
   "execution_count": 82,
   "metadata": {},
   "outputs": [
    {
     "data": {
      "text/plain": [
       "['In',\n",
       " 'Out',\n",
       " '_',\n",
       " '_1',\n",
       " '_11',\n",
       " '_13',\n",
       " '_19',\n",
       " '_2',\n",
       " '_20',\n",
       " '_21',\n",
       " '_22',\n",
       " '_23',\n",
       " '_24',\n",
       " '_25',\n",
       " '_26',\n",
       " '_27',\n",
       " '_28',\n",
       " '_29',\n",
       " '_3',\n",
       " '_30',\n",
       " '_31',\n",
       " '_32',\n",
       " '_33',\n",
       " '_35',\n",
       " '_39',\n",
       " '_4',\n",
       " '_40',\n",
       " '_41',\n",
       " '_42',\n",
       " '_43',\n",
       " '_44',\n",
       " '_45',\n",
       " '_46',\n",
       " '_49',\n",
       " '_50',\n",
       " '_51',\n",
       " '_52',\n",
       " '_53',\n",
       " '_54',\n",
       " '_55',\n",
       " '_56',\n",
       " '_57',\n",
       " '_58',\n",
       " '_59',\n",
       " '_6',\n",
       " '_60',\n",
       " '_62',\n",
       " '_63',\n",
       " '_64',\n",
       " '_65',\n",
       " '_66',\n",
       " '_67',\n",
       " '_68',\n",
       " '_69',\n",
       " '_70',\n",
       " '_71',\n",
       " '_72',\n",
       " '_73',\n",
       " '_74',\n",
       " '_75',\n",
       " '_76',\n",
       " '_77',\n",
       " '_78',\n",
       " '_79',\n",
       " '__',\n",
       " '___',\n",
       " '__builtin__',\n",
       " '__builtins__',\n",
       " '__doc__',\n",
       " '__loader__',\n",
       " '__name__',\n",
       " '__package__',\n",
       " '__spec__',\n",
       " '_dh',\n",
       " '_i',\n",
       " '_i1',\n",
       " '_i10',\n",
       " '_i11',\n",
       " '_i12',\n",
       " '_i13',\n",
       " '_i14',\n",
       " '_i15',\n",
       " '_i16',\n",
       " '_i17',\n",
       " '_i18',\n",
       " '_i19',\n",
       " '_i2',\n",
       " '_i20',\n",
       " '_i21',\n",
       " '_i22',\n",
       " '_i23',\n",
       " '_i24',\n",
       " '_i25',\n",
       " '_i26',\n",
       " '_i27',\n",
       " '_i28',\n",
       " '_i29',\n",
       " '_i3',\n",
       " '_i30',\n",
       " '_i31',\n",
       " '_i32',\n",
       " '_i33',\n",
       " '_i34',\n",
       " '_i35',\n",
       " '_i36',\n",
       " '_i37',\n",
       " '_i38',\n",
       " '_i39',\n",
       " '_i4',\n",
       " '_i40',\n",
       " '_i41',\n",
       " '_i42',\n",
       " '_i43',\n",
       " '_i44',\n",
       " '_i45',\n",
       " '_i46',\n",
       " '_i47',\n",
       " '_i48',\n",
       " '_i49',\n",
       " '_i5',\n",
       " '_i50',\n",
       " '_i51',\n",
       " '_i52',\n",
       " '_i53',\n",
       " '_i54',\n",
       " '_i55',\n",
       " '_i56',\n",
       " '_i57',\n",
       " '_i58',\n",
       " '_i59',\n",
       " '_i6',\n",
       " '_i60',\n",
       " '_i61',\n",
       " '_i62',\n",
       " '_i63',\n",
       " '_i64',\n",
       " '_i65',\n",
       " '_i66',\n",
       " '_i67',\n",
       " '_i68',\n",
       " '_i69',\n",
       " '_i7',\n",
       " '_i70',\n",
       " '_i71',\n",
       " '_i72',\n",
       " '_i73',\n",
       " '_i74',\n",
       " '_i75',\n",
       " '_i76',\n",
       " '_i77',\n",
       " '_i78',\n",
       " '_i79',\n",
       " '_i8',\n",
       " '_i80',\n",
       " '_i81',\n",
       " '_i82',\n",
       " '_i9',\n",
       " '_ih',\n",
       " '_ii',\n",
       " '_iii',\n",
       " '_oh',\n",
       " 'exit',\n",
       " 'get_ipython',\n",
       " 'letra',\n",
       " 'quit',\n",
       " 's',\n",
       " 'teste',\n",
       " 'texto']"
      ]
     },
     "execution_count": 82,
     "metadata": {},
     "output_type": "execute_result"
    }
   ],
   "source": [
    "dir()"
   ]
  },
  {
   "cell_type": "code",
   "execution_count": 83,
   "metadata": {},
   "outputs": [
    {
     "data": {
      "text/plain": [
       "{'__name__': '__main__',\n",
       " '__doc__': 'Automatically created module for IPython interactive environment',\n",
       " '__package__': None,\n",
       " '__loader__': None,\n",
       " '__spec__': None,\n",
       " '__builtin__': <module 'builtins' (built-in)>,\n",
       " '__builtins__': <module 'builtins' (built-in)>,\n",
       " '_ih': ['',\n",
       "  \"# Uma única palavra\\n'Oi'\",\n",
       "  \"# Uma frase\\n'Criando uma string em Python'\",\n",
       "  '# Podemos usar aspas duplas\\n\"Podemos usar aspas duplas ou simples para strings em Python\"',\n",
       "  '# Você pode combinar aspas duplas e simples\\n\"Testando strings em \\'Python\\'\"',\n",
       "  'texto = \"carla scherer\"',\n",
       "  'texto[5]',\n",
       "  \"print ('Testando Strings em Python')\",\n",
       "  \"print ('Testando \\\\nStrings \\\\nem \\\\nPython')\",\n",
       "  \"print ('\\\\n')\",\n",
       "  \"teste = '\\\\n'\",\n",
       "  'teste[0]',\n",
       "  \"teste = 'Testando \\\\nStrings \\\\nem \\\\nPython'\",\n",
       "  'teste',\n",
       "  'print(teste)',\n",
       "  \"'testando 'string''\",\n",
       "  \"'testando 'carla''\",\n",
       "  \"# Atribuindo uma string\\ns = 'Data Science Academy'\",\n",
       "  'print(s)',\n",
       "  '# Primeiro elemento da string. \\ns[0]',\n",
       "  's[1]',\n",
       "  's[2]',\n",
       "  '# Retorna todos os elementos da string, começando pela posição (lembre-se que Python começa a indexação pela posição 0),\\n# até o fim da string.\\ns[1:]',\n",
       "  '# A string original permanece inalterada\\ns',\n",
       "  '# Retorna tudo até a posição 3\\ns[:3]',\n",
       "  's[:]',\n",
       "  '# Nós também podemos usar a indexação negativa e ler de trás para frente.\\ns[-1]',\n",
       "  '# Retornar tudo, exceto a última letra\\ns[:-1]',\n",
       "  's[:-2]',\n",
       "  's[::1]',\n",
       "  's[::2]',\n",
       "  's[::-1]',\n",
       "  's[::-2]',\n",
       "  's',\n",
       "  \"# Alterando um caracter\\ns[0] = 'x'\",\n",
       "  \"# Concatenando strings\\ns + ' é a melhor maneira de estar preparado para o mercado de trabalho em Ciência de Dados!'\",\n",
       "  \"s = s + ' é a melhor maneira de estar preparado para o mercado de trabalho em Ciência de Dados!'\",\n",
       "  'print(s)',\n",
       "  \"# Podemos usar o símbolo de multiplicação para criar repetição!\\nletra = 'w'\",\n",
       "  'letra * 3',\n",
       "  'letra + letra',\n",
       "  's',\n",
       "  '# Upper Case \\ns.upper()',\n",
       "  '# Lower case\\ns.lower()',\n",
       "  '# Dividir uma string por espaços em branco (padrão)\\ns.split()',\n",
       "  \"# Dividir uma string por um elemento específico\\ns.split('y')\",\n",
       "  's.capitalize()',\n",
       "  's.count()',\n",
       "  's.count(1)',\n",
       "  's.count(\"estar\")',\n",
       "  \"s.find('Data')\",\n",
       "  \"s.find('estar')\",\n",
       "  \"s.find('a')\",\n",
       "  \"s.find('Data')\",\n",
       "  's',\n",
       "  \"s.find('Data')\",\n",
       "  \"s.find('é')\",\n",
       "  \"s.find('S')\",\n",
       "  \"s.find('a')\",\n",
       "  \"s.find('a',2)\",\n",
       "  \"s.find('a',3)\",\n",
       "  \"s = 'seja bem vindo ao universo de python'\",\n",
       "  's.capitalize()',\n",
       "  \"s.count('a')\",\n",
       "  \"s.find('p')\",\n",
       "  \"s.center(20, 'z')\",\n",
       "  \"s.center(20, 'y')\",\n",
       "  \"s.center(20, 's')\",\n",
       "  's.center(20)',\n",
       "  \"s.center(20,'z')\",\n",
       "  \"s.center(20, 'z')\",\n",
       "  \"s.center(30, 'z')\",\n",
       "  \"s.center(50, 'z')\",\n",
       "  's.isalnum()',\n",
       "  's.isalpha()',\n",
       "  's.islower()',\n",
       "  's.isspace()',\n",
       "  \"s.endswith('o')\",\n",
       "  \"s.partition('!')\",\n",
       "  \"s.partition('j')\",\n",
       "  'print(\"Python\" == \"R\")',\n",
       "  'print(\"Python\" == \"Python\")',\n",
       "  'dir()',\n",
       "  'locals()'],\n",
       " '_oh': {1: 'Oi',\n",
       "  2: 'Criando uma string em Python',\n",
       "  3: 'Podemos usar aspas duplas ou simples para strings em Python',\n",
       "  4: \"Testando strings em 'Python'\",\n",
       "  6: ' ',\n",
       "  11: '\\n',\n",
       "  13: 'Testando \\nStrings \\nem \\nPython',\n",
       "  19: 'D',\n",
       "  20: 'a',\n",
       "  21: 't',\n",
       "  22: 'ata Science Academy',\n",
       "  23: 'Data Science Academy',\n",
       "  24: 'Dat',\n",
       "  25: 'Data Science Academy',\n",
       "  26: 'y',\n",
       "  27: 'Data Science Academ',\n",
       "  28: 'Data Science Acade',\n",
       "  29: 'Data Science Academy',\n",
       "  30: 'Dt cec cdm',\n",
       "  31: 'ymedacA ecneicS ataD',\n",
       "  32: 'yeaAeniSaa',\n",
       "  33: 'Data Science Academy',\n",
       "  35: 'Data Science Academy é a melhor maneira de estar preparado para o mercado de trabalho em Ciência de Dados!',\n",
       "  39: 'www',\n",
       "  40: 'ww',\n",
       "  41: 'Data Science Academy é a melhor maneira de estar preparado para o mercado de trabalho em Ciência de Dados!',\n",
       "  42: 'DATA SCIENCE ACADEMY É A MELHOR MANEIRA DE ESTAR PREPARADO PARA O MERCADO DE TRABALHO EM CIÊNCIA DE DADOS!',\n",
       "  43: 'data science academy é a melhor maneira de estar preparado para o mercado de trabalho em ciência de dados!',\n",
       "  44: ['Data',\n",
       "   'Science',\n",
       "   'Academy',\n",
       "   'é',\n",
       "   'a',\n",
       "   'melhor',\n",
       "   'maneira',\n",
       "   'de',\n",
       "   'estar',\n",
       "   'preparado',\n",
       "   'para',\n",
       "   'o',\n",
       "   'mercado',\n",
       "   'de',\n",
       "   'trabalho',\n",
       "   'em',\n",
       "   'Ciência',\n",
       "   'de',\n",
       "   'Dados!'],\n",
       "  45: ['Data Science Academ',\n",
       "   ' é a melhor maneira de estar preparado para o mercado de trabalho em Ciência de Dados!'],\n",
       "  46: 'Data science academy é a melhor maneira de estar preparado para o mercado de trabalho em ciência de dados!',\n",
       "  49: 1,\n",
       "  50: 0,\n",
       "  51: 43,\n",
       "  52: 1,\n",
       "  53: 0,\n",
       "  54: 'Data Science Academy é a melhor maneira de estar preparado para o mercado de trabalho em Ciência de Dados!',\n",
       "  55: 0,\n",
       "  56: 21,\n",
       "  57: 5,\n",
       "  58: 1,\n",
       "  59: 3,\n",
       "  60: 3,\n",
       "  62: 'Seja bem vindo ao universo de python',\n",
       "  63: 2,\n",
       "  64: 30,\n",
       "  65: 'seja bem vindo ao universo de python',\n",
       "  66: 'seja bem vindo ao universo de python',\n",
       "  67: 'seja bem vindo ao universo de python',\n",
       "  68: 'seja bem vindo ao universo de python',\n",
       "  69: 'seja bem vindo ao universo de python',\n",
       "  70: 'seja bem vindo ao universo de python',\n",
       "  71: 'seja bem vindo ao universo de python',\n",
       "  72: 'zzzzzzzseja bem vindo ao universo de pythonzzzzzzz',\n",
       "  73: False,\n",
       "  74: False,\n",
       "  75: True,\n",
       "  76: False,\n",
       "  77: False,\n",
       "  78: ('seja bem vindo ao universo de python', '', ''),\n",
       "  79: ('se', 'j', 'a bem vindo ao universo de python'),\n",
       "  82: ['In',\n",
       "   'Out',\n",
       "   '_',\n",
       "   '_1',\n",
       "   '_11',\n",
       "   '_13',\n",
       "   '_19',\n",
       "   '_2',\n",
       "   '_20',\n",
       "   '_21',\n",
       "   '_22',\n",
       "   '_23',\n",
       "   '_24',\n",
       "   '_25',\n",
       "   '_26',\n",
       "   '_27',\n",
       "   '_28',\n",
       "   '_29',\n",
       "   '_3',\n",
       "   '_30',\n",
       "   '_31',\n",
       "   '_32',\n",
       "   '_33',\n",
       "   '_35',\n",
       "   '_39',\n",
       "   '_4',\n",
       "   '_40',\n",
       "   '_41',\n",
       "   '_42',\n",
       "   '_43',\n",
       "   '_44',\n",
       "   '_45',\n",
       "   '_46',\n",
       "   '_49',\n",
       "   '_50',\n",
       "   '_51',\n",
       "   '_52',\n",
       "   '_53',\n",
       "   '_54',\n",
       "   '_55',\n",
       "   '_56',\n",
       "   '_57',\n",
       "   '_58',\n",
       "   '_59',\n",
       "   '_6',\n",
       "   '_60',\n",
       "   '_62',\n",
       "   '_63',\n",
       "   '_64',\n",
       "   '_65',\n",
       "   '_66',\n",
       "   '_67',\n",
       "   '_68',\n",
       "   '_69',\n",
       "   '_70',\n",
       "   '_71',\n",
       "   '_72',\n",
       "   '_73',\n",
       "   '_74',\n",
       "   '_75',\n",
       "   '_76',\n",
       "   '_77',\n",
       "   '_78',\n",
       "   '_79',\n",
       "   '__',\n",
       "   '___',\n",
       "   '__builtin__',\n",
       "   '__builtins__',\n",
       "   '__doc__',\n",
       "   '__loader__',\n",
       "   '__name__',\n",
       "   '__package__',\n",
       "   '__spec__',\n",
       "   '_dh',\n",
       "   '_i',\n",
       "   '_i1',\n",
       "   '_i10',\n",
       "   '_i11',\n",
       "   '_i12',\n",
       "   '_i13',\n",
       "   '_i14',\n",
       "   '_i15',\n",
       "   '_i16',\n",
       "   '_i17',\n",
       "   '_i18',\n",
       "   '_i19',\n",
       "   '_i2',\n",
       "   '_i20',\n",
       "   '_i21',\n",
       "   '_i22',\n",
       "   '_i23',\n",
       "   '_i24',\n",
       "   '_i25',\n",
       "   '_i26',\n",
       "   '_i27',\n",
       "   '_i28',\n",
       "   '_i29',\n",
       "   '_i3',\n",
       "   '_i30',\n",
       "   '_i31',\n",
       "   '_i32',\n",
       "   '_i33',\n",
       "   '_i34',\n",
       "   '_i35',\n",
       "   '_i36',\n",
       "   '_i37',\n",
       "   '_i38',\n",
       "   '_i39',\n",
       "   '_i4',\n",
       "   '_i40',\n",
       "   '_i41',\n",
       "   '_i42',\n",
       "   '_i43',\n",
       "   '_i44',\n",
       "   '_i45',\n",
       "   '_i46',\n",
       "   '_i47',\n",
       "   '_i48',\n",
       "   '_i49',\n",
       "   '_i5',\n",
       "   '_i50',\n",
       "   '_i51',\n",
       "   '_i52',\n",
       "   '_i53',\n",
       "   '_i54',\n",
       "   '_i55',\n",
       "   '_i56',\n",
       "   '_i57',\n",
       "   '_i58',\n",
       "   '_i59',\n",
       "   '_i6',\n",
       "   '_i60',\n",
       "   '_i61',\n",
       "   '_i62',\n",
       "   '_i63',\n",
       "   '_i64',\n",
       "   '_i65',\n",
       "   '_i66',\n",
       "   '_i67',\n",
       "   '_i68',\n",
       "   '_i69',\n",
       "   '_i7',\n",
       "   '_i70',\n",
       "   '_i71',\n",
       "   '_i72',\n",
       "   '_i73',\n",
       "   '_i74',\n",
       "   '_i75',\n",
       "   '_i76',\n",
       "   '_i77',\n",
       "   '_i78',\n",
       "   '_i79',\n",
       "   '_i8',\n",
       "   '_i80',\n",
       "   '_i81',\n",
       "   '_i82',\n",
       "   '_i9',\n",
       "   '_ih',\n",
       "   '_ii',\n",
       "   '_iii',\n",
       "   '_oh',\n",
       "   'exit',\n",
       "   'get_ipython',\n",
       "   'letra',\n",
       "   'quit',\n",
       "   's',\n",
       "   'teste',\n",
       "   'texto']},\n",
       " '_dh': ['C:\\\\PythonFundamentos\\\\Cap02\\\\Notebooks'],\n",
       " 'In': ['',\n",
       "  \"# Uma única palavra\\n'Oi'\",\n",
       "  \"# Uma frase\\n'Criando uma string em Python'\",\n",
       "  '# Podemos usar aspas duplas\\n\"Podemos usar aspas duplas ou simples para strings em Python\"',\n",
       "  '# Você pode combinar aspas duplas e simples\\n\"Testando strings em \\'Python\\'\"',\n",
       "  'texto = \"carla scherer\"',\n",
       "  'texto[5]',\n",
       "  \"print ('Testando Strings em Python')\",\n",
       "  \"print ('Testando \\\\nStrings \\\\nem \\\\nPython')\",\n",
       "  \"print ('\\\\n')\",\n",
       "  \"teste = '\\\\n'\",\n",
       "  'teste[0]',\n",
       "  \"teste = 'Testando \\\\nStrings \\\\nem \\\\nPython'\",\n",
       "  'teste',\n",
       "  'print(teste)',\n",
       "  \"'testando 'string''\",\n",
       "  \"'testando 'carla''\",\n",
       "  \"# Atribuindo uma string\\ns = 'Data Science Academy'\",\n",
       "  'print(s)',\n",
       "  '# Primeiro elemento da string. \\ns[0]',\n",
       "  's[1]',\n",
       "  's[2]',\n",
       "  '# Retorna todos os elementos da string, começando pela posição (lembre-se que Python começa a indexação pela posição 0),\\n# até o fim da string.\\ns[1:]',\n",
       "  '# A string original permanece inalterada\\ns',\n",
       "  '# Retorna tudo até a posição 3\\ns[:3]',\n",
       "  's[:]',\n",
       "  '# Nós também podemos usar a indexação negativa e ler de trás para frente.\\ns[-1]',\n",
       "  '# Retornar tudo, exceto a última letra\\ns[:-1]',\n",
       "  's[:-2]',\n",
       "  's[::1]',\n",
       "  's[::2]',\n",
       "  's[::-1]',\n",
       "  's[::-2]',\n",
       "  's',\n",
       "  \"# Alterando um caracter\\ns[0] = 'x'\",\n",
       "  \"# Concatenando strings\\ns + ' é a melhor maneira de estar preparado para o mercado de trabalho em Ciência de Dados!'\",\n",
       "  \"s = s + ' é a melhor maneira de estar preparado para o mercado de trabalho em Ciência de Dados!'\",\n",
       "  'print(s)',\n",
       "  \"# Podemos usar o símbolo de multiplicação para criar repetição!\\nletra = 'w'\",\n",
       "  'letra * 3',\n",
       "  'letra + letra',\n",
       "  's',\n",
       "  '# Upper Case \\ns.upper()',\n",
       "  '# Lower case\\ns.lower()',\n",
       "  '# Dividir uma string por espaços em branco (padrão)\\ns.split()',\n",
       "  \"# Dividir uma string por um elemento específico\\ns.split('y')\",\n",
       "  's.capitalize()',\n",
       "  's.count()',\n",
       "  's.count(1)',\n",
       "  's.count(\"estar\")',\n",
       "  \"s.find('Data')\",\n",
       "  \"s.find('estar')\",\n",
       "  \"s.find('a')\",\n",
       "  \"s.find('Data')\",\n",
       "  's',\n",
       "  \"s.find('Data')\",\n",
       "  \"s.find('é')\",\n",
       "  \"s.find('S')\",\n",
       "  \"s.find('a')\",\n",
       "  \"s.find('a',2)\",\n",
       "  \"s.find('a',3)\",\n",
       "  \"s = 'seja bem vindo ao universo de python'\",\n",
       "  's.capitalize()',\n",
       "  \"s.count('a')\",\n",
       "  \"s.find('p')\",\n",
       "  \"s.center(20, 'z')\",\n",
       "  \"s.center(20, 'y')\",\n",
       "  \"s.center(20, 's')\",\n",
       "  's.center(20)',\n",
       "  \"s.center(20,'z')\",\n",
       "  \"s.center(20, 'z')\",\n",
       "  \"s.center(30, 'z')\",\n",
       "  \"s.center(50, 'z')\",\n",
       "  's.isalnum()',\n",
       "  's.isalpha()',\n",
       "  's.islower()',\n",
       "  's.isspace()',\n",
       "  \"s.endswith('o')\",\n",
       "  \"s.partition('!')\",\n",
       "  \"s.partition('j')\",\n",
       "  'print(\"Python\" == \"R\")',\n",
       "  'print(\"Python\" == \"Python\")',\n",
       "  'dir()',\n",
       "  'locals()'],\n",
       " 'Out': {1: 'Oi',\n",
       "  2: 'Criando uma string em Python',\n",
       "  3: 'Podemos usar aspas duplas ou simples para strings em Python',\n",
       "  4: \"Testando strings em 'Python'\",\n",
       "  6: ' ',\n",
       "  11: '\\n',\n",
       "  13: 'Testando \\nStrings \\nem \\nPython',\n",
       "  19: 'D',\n",
       "  20: 'a',\n",
       "  21: 't',\n",
       "  22: 'ata Science Academy',\n",
       "  23: 'Data Science Academy',\n",
       "  24: 'Dat',\n",
       "  25: 'Data Science Academy',\n",
       "  26: 'y',\n",
       "  27: 'Data Science Academ',\n",
       "  28: 'Data Science Acade',\n",
       "  29: 'Data Science Academy',\n",
       "  30: 'Dt cec cdm',\n",
       "  31: 'ymedacA ecneicS ataD',\n",
       "  32: 'yeaAeniSaa',\n",
       "  33: 'Data Science Academy',\n",
       "  35: 'Data Science Academy é a melhor maneira de estar preparado para o mercado de trabalho em Ciência de Dados!',\n",
       "  39: 'www',\n",
       "  40: 'ww',\n",
       "  41: 'Data Science Academy é a melhor maneira de estar preparado para o mercado de trabalho em Ciência de Dados!',\n",
       "  42: 'DATA SCIENCE ACADEMY É A MELHOR MANEIRA DE ESTAR PREPARADO PARA O MERCADO DE TRABALHO EM CIÊNCIA DE DADOS!',\n",
       "  43: 'data science academy é a melhor maneira de estar preparado para o mercado de trabalho em ciência de dados!',\n",
       "  44: ['Data',\n",
       "   'Science',\n",
       "   'Academy',\n",
       "   'é',\n",
       "   'a',\n",
       "   'melhor',\n",
       "   'maneira',\n",
       "   'de',\n",
       "   'estar',\n",
       "   'preparado',\n",
       "   'para',\n",
       "   'o',\n",
       "   'mercado',\n",
       "   'de',\n",
       "   'trabalho',\n",
       "   'em',\n",
       "   'Ciência',\n",
       "   'de',\n",
       "   'Dados!'],\n",
       "  45: ['Data Science Academ',\n",
       "   ' é a melhor maneira de estar preparado para o mercado de trabalho em Ciência de Dados!'],\n",
       "  46: 'Data science academy é a melhor maneira de estar preparado para o mercado de trabalho em ciência de dados!',\n",
       "  49: 1,\n",
       "  50: 0,\n",
       "  51: 43,\n",
       "  52: 1,\n",
       "  53: 0,\n",
       "  54: 'Data Science Academy é a melhor maneira de estar preparado para o mercado de trabalho em Ciência de Dados!',\n",
       "  55: 0,\n",
       "  56: 21,\n",
       "  57: 5,\n",
       "  58: 1,\n",
       "  59: 3,\n",
       "  60: 3,\n",
       "  62: 'Seja bem vindo ao universo de python',\n",
       "  63: 2,\n",
       "  64: 30,\n",
       "  65: 'seja bem vindo ao universo de python',\n",
       "  66: 'seja bem vindo ao universo de python',\n",
       "  67: 'seja bem vindo ao universo de python',\n",
       "  68: 'seja bem vindo ao universo de python',\n",
       "  69: 'seja bem vindo ao universo de python',\n",
       "  70: 'seja bem vindo ao universo de python',\n",
       "  71: 'seja bem vindo ao universo de python',\n",
       "  72: 'zzzzzzzseja bem vindo ao universo de pythonzzzzzzz',\n",
       "  73: False,\n",
       "  74: False,\n",
       "  75: True,\n",
       "  76: False,\n",
       "  77: False,\n",
       "  78: ('seja bem vindo ao universo de python', '', ''),\n",
       "  79: ('se', 'j', 'a bem vindo ao universo de python'),\n",
       "  82: ['In',\n",
       "   'Out',\n",
       "   '_',\n",
       "   '_1',\n",
       "   '_11',\n",
       "   '_13',\n",
       "   '_19',\n",
       "   '_2',\n",
       "   '_20',\n",
       "   '_21',\n",
       "   '_22',\n",
       "   '_23',\n",
       "   '_24',\n",
       "   '_25',\n",
       "   '_26',\n",
       "   '_27',\n",
       "   '_28',\n",
       "   '_29',\n",
       "   '_3',\n",
       "   '_30',\n",
       "   '_31',\n",
       "   '_32',\n",
       "   '_33',\n",
       "   '_35',\n",
       "   '_39',\n",
       "   '_4',\n",
       "   '_40',\n",
       "   '_41',\n",
       "   '_42',\n",
       "   '_43',\n",
       "   '_44',\n",
       "   '_45',\n",
       "   '_46',\n",
       "   '_49',\n",
       "   '_50',\n",
       "   '_51',\n",
       "   '_52',\n",
       "   '_53',\n",
       "   '_54',\n",
       "   '_55',\n",
       "   '_56',\n",
       "   '_57',\n",
       "   '_58',\n",
       "   '_59',\n",
       "   '_6',\n",
       "   '_60',\n",
       "   '_62',\n",
       "   '_63',\n",
       "   '_64',\n",
       "   '_65',\n",
       "   '_66',\n",
       "   '_67',\n",
       "   '_68',\n",
       "   '_69',\n",
       "   '_70',\n",
       "   '_71',\n",
       "   '_72',\n",
       "   '_73',\n",
       "   '_74',\n",
       "   '_75',\n",
       "   '_76',\n",
       "   '_77',\n",
       "   '_78',\n",
       "   '_79',\n",
       "   '__',\n",
       "   '___',\n",
       "   '__builtin__',\n",
       "   '__builtins__',\n",
       "   '__doc__',\n",
       "   '__loader__',\n",
       "   '__name__',\n",
       "   '__package__',\n",
       "   '__spec__',\n",
       "   '_dh',\n",
       "   '_i',\n",
       "   '_i1',\n",
       "   '_i10',\n",
       "   '_i11',\n",
       "   '_i12',\n",
       "   '_i13',\n",
       "   '_i14',\n",
       "   '_i15',\n",
       "   '_i16',\n",
       "   '_i17',\n",
       "   '_i18',\n",
       "   '_i19',\n",
       "   '_i2',\n",
       "   '_i20',\n",
       "   '_i21',\n",
       "   '_i22',\n",
       "   '_i23',\n",
       "   '_i24',\n",
       "   '_i25',\n",
       "   '_i26',\n",
       "   '_i27',\n",
       "   '_i28',\n",
       "   '_i29',\n",
       "   '_i3',\n",
       "   '_i30',\n",
       "   '_i31',\n",
       "   '_i32',\n",
       "   '_i33',\n",
       "   '_i34',\n",
       "   '_i35',\n",
       "   '_i36',\n",
       "   '_i37',\n",
       "   '_i38',\n",
       "   '_i39',\n",
       "   '_i4',\n",
       "   '_i40',\n",
       "   '_i41',\n",
       "   '_i42',\n",
       "   '_i43',\n",
       "   '_i44',\n",
       "   '_i45',\n",
       "   '_i46',\n",
       "   '_i47',\n",
       "   '_i48',\n",
       "   '_i49',\n",
       "   '_i5',\n",
       "   '_i50',\n",
       "   '_i51',\n",
       "   '_i52',\n",
       "   '_i53',\n",
       "   '_i54',\n",
       "   '_i55',\n",
       "   '_i56',\n",
       "   '_i57',\n",
       "   '_i58',\n",
       "   '_i59',\n",
       "   '_i6',\n",
       "   '_i60',\n",
       "   '_i61',\n",
       "   '_i62',\n",
       "   '_i63',\n",
       "   '_i64',\n",
       "   '_i65',\n",
       "   '_i66',\n",
       "   '_i67',\n",
       "   '_i68',\n",
       "   '_i69',\n",
       "   '_i7',\n",
       "   '_i70',\n",
       "   '_i71',\n",
       "   '_i72',\n",
       "   '_i73',\n",
       "   '_i74',\n",
       "   '_i75',\n",
       "   '_i76',\n",
       "   '_i77',\n",
       "   '_i78',\n",
       "   '_i79',\n",
       "   '_i8',\n",
       "   '_i80',\n",
       "   '_i81',\n",
       "   '_i82',\n",
       "   '_i9',\n",
       "   '_ih',\n",
       "   '_ii',\n",
       "   '_iii',\n",
       "   '_oh',\n",
       "   'exit',\n",
       "   'get_ipython',\n",
       "   'letra',\n",
       "   'quit',\n",
       "   's',\n",
       "   'teste',\n",
       "   'texto']},\n",
       " 'get_ipython': <bound method InteractiveShell.get_ipython of <ipykernel.zmqshell.ZMQInteractiveShell object at 0x00000294FE9F3CC0>>,\n",
       " 'exit': <IPython.core.autocall.ZMQExitAutocall at 0x294fea39518>,\n",
       " 'quit': <IPython.core.autocall.ZMQExitAutocall at 0x294fea39518>,\n",
       " '_': ['In',\n",
       "  'Out',\n",
       "  '_',\n",
       "  '_1',\n",
       "  '_11',\n",
       "  '_13',\n",
       "  '_19',\n",
       "  '_2',\n",
       "  '_20',\n",
       "  '_21',\n",
       "  '_22',\n",
       "  '_23',\n",
       "  '_24',\n",
       "  '_25',\n",
       "  '_26',\n",
       "  '_27',\n",
       "  '_28',\n",
       "  '_29',\n",
       "  '_3',\n",
       "  '_30',\n",
       "  '_31',\n",
       "  '_32',\n",
       "  '_33',\n",
       "  '_35',\n",
       "  '_39',\n",
       "  '_4',\n",
       "  '_40',\n",
       "  '_41',\n",
       "  '_42',\n",
       "  '_43',\n",
       "  '_44',\n",
       "  '_45',\n",
       "  '_46',\n",
       "  '_49',\n",
       "  '_50',\n",
       "  '_51',\n",
       "  '_52',\n",
       "  '_53',\n",
       "  '_54',\n",
       "  '_55',\n",
       "  '_56',\n",
       "  '_57',\n",
       "  '_58',\n",
       "  '_59',\n",
       "  '_6',\n",
       "  '_60',\n",
       "  '_62',\n",
       "  '_63',\n",
       "  '_64',\n",
       "  '_65',\n",
       "  '_66',\n",
       "  '_67',\n",
       "  '_68',\n",
       "  '_69',\n",
       "  '_70',\n",
       "  '_71',\n",
       "  '_72',\n",
       "  '_73',\n",
       "  '_74',\n",
       "  '_75',\n",
       "  '_76',\n",
       "  '_77',\n",
       "  '_78',\n",
       "  '_79',\n",
       "  '__',\n",
       "  '___',\n",
       "  '__builtin__',\n",
       "  '__builtins__',\n",
       "  '__doc__',\n",
       "  '__loader__',\n",
       "  '__name__',\n",
       "  '__package__',\n",
       "  '__spec__',\n",
       "  '_dh',\n",
       "  '_i',\n",
       "  '_i1',\n",
       "  '_i10',\n",
       "  '_i11',\n",
       "  '_i12',\n",
       "  '_i13',\n",
       "  '_i14',\n",
       "  '_i15',\n",
       "  '_i16',\n",
       "  '_i17',\n",
       "  '_i18',\n",
       "  '_i19',\n",
       "  '_i2',\n",
       "  '_i20',\n",
       "  '_i21',\n",
       "  '_i22',\n",
       "  '_i23',\n",
       "  '_i24',\n",
       "  '_i25',\n",
       "  '_i26',\n",
       "  '_i27',\n",
       "  '_i28',\n",
       "  '_i29',\n",
       "  '_i3',\n",
       "  '_i30',\n",
       "  '_i31',\n",
       "  '_i32',\n",
       "  '_i33',\n",
       "  '_i34',\n",
       "  '_i35',\n",
       "  '_i36',\n",
       "  '_i37',\n",
       "  '_i38',\n",
       "  '_i39',\n",
       "  '_i4',\n",
       "  '_i40',\n",
       "  '_i41',\n",
       "  '_i42',\n",
       "  '_i43',\n",
       "  '_i44',\n",
       "  '_i45',\n",
       "  '_i46',\n",
       "  '_i47',\n",
       "  '_i48',\n",
       "  '_i49',\n",
       "  '_i5',\n",
       "  '_i50',\n",
       "  '_i51',\n",
       "  '_i52',\n",
       "  '_i53',\n",
       "  '_i54',\n",
       "  '_i55',\n",
       "  '_i56',\n",
       "  '_i57',\n",
       "  '_i58',\n",
       "  '_i59',\n",
       "  '_i6',\n",
       "  '_i60',\n",
       "  '_i61',\n",
       "  '_i62',\n",
       "  '_i63',\n",
       "  '_i64',\n",
       "  '_i65',\n",
       "  '_i66',\n",
       "  '_i67',\n",
       "  '_i68',\n",
       "  '_i69',\n",
       "  '_i7',\n",
       "  '_i70',\n",
       "  '_i71',\n",
       "  '_i72',\n",
       "  '_i73',\n",
       "  '_i74',\n",
       "  '_i75',\n",
       "  '_i76',\n",
       "  '_i77',\n",
       "  '_i78',\n",
       "  '_i79',\n",
       "  '_i8',\n",
       "  '_i80',\n",
       "  '_i81',\n",
       "  '_i82',\n",
       "  '_i9',\n",
       "  '_ih',\n",
       "  '_ii',\n",
       "  '_iii',\n",
       "  '_oh',\n",
       "  'exit',\n",
       "  'get_ipython',\n",
       "  'letra',\n",
       "  'quit',\n",
       "  's',\n",
       "  'teste',\n",
       "  'texto'],\n",
       " '__': ('se', 'j', 'a bem vindo ao universo de python'),\n",
       " '___': ('seja bem vindo ao universo de python', '', ''),\n",
       " '_i': 'dir()',\n",
       " '_ii': 'print(\"Python\" == \"Python\")',\n",
       " '_iii': 'print(\"Python\" == \"R\")',\n",
       " '_i1': \"# Uma única palavra\\n'Oi'\",\n",
       " '_1': 'Oi',\n",
       " '_i2': \"# Uma frase\\n'Criando uma string em Python'\",\n",
       " '_2': 'Criando uma string em Python',\n",
       " '_i3': '# Podemos usar aspas duplas\\n\"Podemos usar aspas duplas ou simples para strings em Python\"',\n",
       " '_3': 'Podemos usar aspas duplas ou simples para strings em Python',\n",
       " '_i4': '# Você pode combinar aspas duplas e simples\\n\"Testando strings em \\'Python\\'\"',\n",
       " '_4': \"Testando strings em 'Python'\",\n",
       " '_i5': 'texto = \"carla scherer\"',\n",
       " 'texto': 'carla scherer',\n",
       " '_i6': 'texto[5]',\n",
       " '_6': ' ',\n",
       " '_i7': \"print ('Testando Strings em Python')\",\n",
       " '_i8': \"print ('Testando \\\\nStrings \\\\nem \\\\nPython')\",\n",
       " '_i9': \"print ('\\\\n')\",\n",
       " '_i10': \"teste = '\\\\n'\",\n",
       " 'teste': 'Testando \\nStrings \\nem \\nPython',\n",
       " '_i11': 'teste[0]',\n",
       " '_11': '\\n',\n",
       " '_i12': \"teste = 'Testando \\\\nStrings \\\\nem \\\\nPython'\",\n",
       " '_i13': 'teste',\n",
       " '_13': 'Testando \\nStrings \\nem \\nPython',\n",
       " '_i14': 'print(teste)',\n",
       " '_i15': \"'testando 'string''\",\n",
       " '_i16': \"'testando 'carla''\",\n",
       " '_i17': \"# Atribuindo uma string\\ns = 'Data Science Academy'\",\n",
       " 's': 'seja bem vindo ao universo de python',\n",
       " '_i18': 'print(s)',\n",
       " '_i19': '# Primeiro elemento da string. \\ns[0]',\n",
       " '_19': 'D',\n",
       " '_i20': 's[1]',\n",
       " '_20': 'a',\n",
       " '_i21': 's[2]',\n",
       " '_21': 't',\n",
       " '_i22': '# Retorna todos os elementos da string, começando pela posição (lembre-se que Python começa a indexação pela posição 0),\\n# até o fim da string.\\ns[1:]',\n",
       " '_22': 'ata Science Academy',\n",
       " '_i23': '# A string original permanece inalterada\\ns',\n",
       " '_23': 'Data Science Academy',\n",
       " '_i24': '# Retorna tudo até a posição 3\\ns[:3]',\n",
       " '_24': 'Dat',\n",
       " '_i25': 's[:]',\n",
       " '_25': 'Data Science Academy',\n",
       " '_i26': '# Nós também podemos usar a indexação negativa e ler de trás para frente.\\ns[-1]',\n",
       " '_26': 'y',\n",
       " '_i27': '# Retornar tudo, exceto a última letra\\ns[:-1]',\n",
       " '_27': 'Data Science Academ',\n",
       " '_i28': 's[:-2]',\n",
       " '_28': 'Data Science Acade',\n",
       " '_i29': 's[::1]',\n",
       " '_29': 'Data Science Academy',\n",
       " '_i30': 's[::2]',\n",
       " '_30': 'Dt cec cdm',\n",
       " '_i31': 's[::-1]',\n",
       " '_31': 'ymedacA ecneicS ataD',\n",
       " '_i32': 's[::-2]',\n",
       " '_32': 'yeaAeniSaa',\n",
       " '_i33': 's',\n",
       " '_33': 'Data Science Academy',\n",
       " '_i34': \"# Alterando um caracter\\ns[0] = 'x'\",\n",
       " '_i35': \"# Concatenando strings\\ns + ' é a melhor maneira de estar preparado para o mercado de trabalho em Ciência de Dados!'\",\n",
       " '_35': 'Data Science Academy é a melhor maneira de estar preparado para o mercado de trabalho em Ciência de Dados!',\n",
       " '_i36': \"s = s + ' é a melhor maneira de estar preparado para o mercado de trabalho em Ciência de Dados!'\",\n",
       " '_i37': 'print(s)',\n",
       " '_i38': \"# Podemos usar o símbolo de multiplicação para criar repetição!\\nletra = 'w'\",\n",
       " 'letra': 'w',\n",
       " '_i39': 'letra * 3',\n",
       " '_39': 'www',\n",
       " '_i40': 'letra + letra',\n",
       " '_40': 'ww',\n",
       " '_i41': 's',\n",
       " '_41': 'Data Science Academy é a melhor maneira de estar preparado para o mercado de trabalho em Ciência de Dados!',\n",
       " '_i42': '# Upper Case \\ns.upper()',\n",
       " '_42': 'DATA SCIENCE ACADEMY É A MELHOR MANEIRA DE ESTAR PREPARADO PARA O MERCADO DE TRABALHO EM CIÊNCIA DE DADOS!',\n",
       " '_i43': '# Lower case\\ns.lower()',\n",
       " '_43': 'data science academy é a melhor maneira de estar preparado para o mercado de trabalho em ciência de dados!',\n",
       " '_i44': '# Dividir uma string por espaços em branco (padrão)\\ns.split()',\n",
       " '_44': ['Data',\n",
       "  'Science',\n",
       "  'Academy',\n",
       "  'é',\n",
       "  'a',\n",
       "  'melhor',\n",
       "  'maneira',\n",
       "  'de',\n",
       "  'estar',\n",
       "  'preparado',\n",
       "  'para',\n",
       "  'o',\n",
       "  'mercado',\n",
       "  'de',\n",
       "  'trabalho',\n",
       "  'em',\n",
       "  'Ciência',\n",
       "  'de',\n",
       "  'Dados!'],\n",
       " '_i45': \"# Dividir uma string por um elemento específico\\ns.split('y')\",\n",
       " '_45': ['Data Science Academ',\n",
       "  ' é a melhor maneira de estar preparado para o mercado de trabalho em Ciência de Dados!'],\n",
       " '_i46': 's.capitalize()',\n",
       " '_46': 'Data science academy é a melhor maneira de estar preparado para o mercado de trabalho em ciência de dados!',\n",
       " '_i47': 's.count()',\n",
       " '_i48': 's.count(1)',\n",
       " '_i49': 's.count(\"estar\")',\n",
       " '_49': 1,\n",
       " '_i50': \"s.find('Data')\",\n",
       " '_50': 0,\n",
       " '_i51': \"s.find('estar')\",\n",
       " '_51': 43,\n",
       " '_i52': \"s.find('a')\",\n",
       " '_52': 1,\n",
       " '_i53': \"s.find('Data')\",\n",
       " '_53': 0,\n",
       " '_i54': 's',\n",
       " '_54': 'Data Science Academy é a melhor maneira de estar preparado para o mercado de trabalho em Ciência de Dados!',\n",
       " '_i55': \"s.find('Data')\",\n",
       " '_55': 0,\n",
       " '_i56': \"s.find('é')\",\n",
       " '_56': 21,\n",
       " '_i57': \"s.find('S')\",\n",
       " '_57': 5,\n",
       " '_i58': \"s.find('a')\",\n",
       " '_58': 1,\n",
       " '_i59': \"s.find('a',2)\",\n",
       " '_59': 3,\n",
       " '_i60': \"s.find('a',3)\",\n",
       " '_60': 3,\n",
       " '_i61': \"s = 'seja bem vindo ao universo de python'\",\n",
       " '_i62': 's.capitalize()',\n",
       " '_62': 'Seja bem vindo ao universo de python',\n",
       " '_i63': \"s.count('a')\",\n",
       " '_63': 2,\n",
       " '_i64': \"s.find('p')\",\n",
       " '_64': 30,\n",
       " '_i65': \"s.center(20, 'z')\",\n",
       " '_65': 'seja bem vindo ao universo de python',\n",
       " '_i66': \"s.center(20, 'y')\",\n",
       " '_66': 'seja bem vindo ao universo de python',\n",
       " '_i67': \"s.center(20, 's')\",\n",
       " '_67': 'seja bem vindo ao universo de python',\n",
       " '_i68': 's.center(20)',\n",
       " '_68': 'seja bem vindo ao universo de python',\n",
       " '_i69': \"s.center(20,'z')\",\n",
       " '_69': 'seja bem vindo ao universo de python',\n",
       " '_i70': \"s.center(20, 'z')\",\n",
       " '_70': 'seja bem vindo ao universo de python',\n",
       " '_i71': \"s.center(30, 'z')\",\n",
       " '_71': 'seja bem vindo ao universo de python',\n",
       " '_i72': \"s.center(50, 'z')\",\n",
       " '_72': 'zzzzzzzseja bem vindo ao universo de pythonzzzzzzz',\n",
       " '_i73': 's.isalnum()',\n",
       " '_73': False,\n",
       " '_i74': 's.isalpha()',\n",
       " '_74': False,\n",
       " '_i75': 's.islower()',\n",
       " '_75': True,\n",
       " '_i76': 's.isspace()',\n",
       " '_76': False,\n",
       " '_i77': \"s.endswith('o')\",\n",
       " '_77': False,\n",
       " '_i78': \"s.partition('!')\",\n",
       " '_78': ('seja bem vindo ao universo de python', '', ''),\n",
       " '_i79': \"s.partition('j')\",\n",
       " '_79': ('se', 'j', 'a bem vindo ao universo de python'),\n",
       " '_i80': 'print(\"Python\" == \"R\")',\n",
       " '_i81': 'print(\"Python\" == \"Python\")',\n",
       " '_i82': 'dir()',\n",
       " '_82': ['In',\n",
       "  'Out',\n",
       "  '_',\n",
       "  '_1',\n",
       "  '_11',\n",
       "  '_13',\n",
       "  '_19',\n",
       "  '_2',\n",
       "  '_20',\n",
       "  '_21',\n",
       "  '_22',\n",
       "  '_23',\n",
       "  '_24',\n",
       "  '_25',\n",
       "  '_26',\n",
       "  '_27',\n",
       "  '_28',\n",
       "  '_29',\n",
       "  '_3',\n",
       "  '_30',\n",
       "  '_31',\n",
       "  '_32',\n",
       "  '_33',\n",
       "  '_35',\n",
       "  '_39',\n",
       "  '_4',\n",
       "  '_40',\n",
       "  '_41',\n",
       "  '_42',\n",
       "  '_43',\n",
       "  '_44',\n",
       "  '_45',\n",
       "  '_46',\n",
       "  '_49',\n",
       "  '_50',\n",
       "  '_51',\n",
       "  '_52',\n",
       "  '_53',\n",
       "  '_54',\n",
       "  '_55',\n",
       "  '_56',\n",
       "  '_57',\n",
       "  '_58',\n",
       "  '_59',\n",
       "  '_6',\n",
       "  '_60',\n",
       "  '_62',\n",
       "  '_63',\n",
       "  '_64',\n",
       "  '_65',\n",
       "  '_66',\n",
       "  '_67',\n",
       "  '_68',\n",
       "  '_69',\n",
       "  '_70',\n",
       "  '_71',\n",
       "  '_72',\n",
       "  '_73',\n",
       "  '_74',\n",
       "  '_75',\n",
       "  '_76',\n",
       "  '_77',\n",
       "  '_78',\n",
       "  '_79',\n",
       "  '__',\n",
       "  '___',\n",
       "  '__builtin__',\n",
       "  '__builtins__',\n",
       "  '__doc__',\n",
       "  '__loader__',\n",
       "  '__name__',\n",
       "  '__package__',\n",
       "  '__spec__',\n",
       "  '_dh',\n",
       "  '_i',\n",
       "  '_i1',\n",
       "  '_i10',\n",
       "  '_i11',\n",
       "  '_i12',\n",
       "  '_i13',\n",
       "  '_i14',\n",
       "  '_i15',\n",
       "  '_i16',\n",
       "  '_i17',\n",
       "  '_i18',\n",
       "  '_i19',\n",
       "  '_i2',\n",
       "  '_i20',\n",
       "  '_i21',\n",
       "  '_i22',\n",
       "  '_i23',\n",
       "  '_i24',\n",
       "  '_i25',\n",
       "  '_i26',\n",
       "  '_i27',\n",
       "  '_i28',\n",
       "  '_i29',\n",
       "  '_i3',\n",
       "  '_i30',\n",
       "  '_i31',\n",
       "  '_i32',\n",
       "  '_i33',\n",
       "  '_i34',\n",
       "  '_i35',\n",
       "  '_i36',\n",
       "  '_i37',\n",
       "  '_i38',\n",
       "  '_i39',\n",
       "  '_i4',\n",
       "  '_i40',\n",
       "  '_i41',\n",
       "  '_i42',\n",
       "  '_i43',\n",
       "  '_i44',\n",
       "  '_i45',\n",
       "  '_i46',\n",
       "  '_i47',\n",
       "  '_i48',\n",
       "  '_i49',\n",
       "  '_i5',\n",
       "  '_i50',\n",
       "  '_i51',\n",
       "  '_i52',\n",
       "  '_i53',\n",
       "  '_i54',\n",
       "  '_i55',\n",
       "  '_i56',\n",
       "  '_i57',\n",
       "  '_i58',\n",
       "  '_i59',\n",
       "  '_i6',\n",
       "  '_i60',\n",
       "  '_i61',\n",
       "  '_i62',\n",
       "  '_i63',\n",
       "  '_i64',\n",
       "  '_i65',\n",
       "  '_i66',\n",
       "  '_i67',\n",
       "  '_i68',\n",
       "  '_i69',\n",
       "  '_i7',\n",
       "  '_i70',\n",
       "  '_i71',\n",
       "  '_i72',\n",
       "  '_i73',\n",
       "  '_i74',\n",
       "  '_i75',\n",
       "  '_i76',\n",
       "  '_i77',\n",
       "  '_i78',\n",
       "  '_i79',\n",
       "  '_i8',\n",
       "  '_i80',\n",
       "  '_i81',\n",
       "  '_i82',\n",
       "  '_i9',\n",
       "  '_ih',\n",
       "  '_ii',\n",
       "  '_iii',\n",
       "  '_oh',\n",
       "  'exit',\n",
       "  'get_ipython',\n",
       "  'letra',\n",
       "  'quit',\n",
       "  's',\n",
       "  'teste',\n",
       "  'texto'],\n",
       " '_i83': 'locals()'}"
      ]
     },
     "execution_count": 83,
     "metadata": {},
     "output_type": "execute_result"
    }
   ],
   "source": [
    "locals()"
   ]
  },
  {
   "cell_type": "code",
   "execution_count": 84,
   "metadata": {},
   "outputs": [
    {
     "name": "stdout",
     "output_type": "stream",
     "text": [
      "Variable   Type    Data/Info\n",
      "----------------------------\n",
      "letra      str     w\n",
      "s          str     seja bem vindo ao universo de python\n",
      "teste      str     Testando \\nStrings \\nem \\nPython\n",
      "texto      str     carla scherer\n"
     ]
    }
   ],
   "source": [
    "%whos"
   ]
  },
  {
   "cell_type": "markdown",
   "metadata": {},
   "source": [
    "# Fim"
   ]
  },
  {
   "cell_type": "markdown",
   "metadata": {},
   "source": [
    "### Obrigado - Data Science Academy - <a href=\"http://facebook.com/dsacademybr\">facebook.com/dsacademybr</a>"
   ]
  }
 ],
 "metadata": {
  "anaconda-cloud": {},
  "kernelspec": {
   "display_name": "Python 3",
   "language": "python",
   "name": "python3"
  },
  "language_info": {
   "codemirror_mode": {
    "name": "ipython",
    "version": 3
   },
   "file_extension": ".py",
   "mimetype": "text/x-python",
   "name": "python",
   "nbconvert_exporter": "python",
   "pygments_lexer": "ipython3",
   "version": "3.6.5"
  }
 },
 "nbformat": 4,
 "nbformat_minor": 1
}
