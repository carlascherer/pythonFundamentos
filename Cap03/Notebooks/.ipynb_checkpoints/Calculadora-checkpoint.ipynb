{
 "cells": [
  {
   "cell_type": "markdown",
   "metadata": {},
   "source": [
    "# Calculadora em Python"
   ]
  },
  {
   "cell_type": "code",
   "execution_count": null,
   "metadata": {},
   "outputs": [],
   "source": [
    "p = ' Python Calculator '\n",
    "print(p.center(50,'*'))\n",
    "\n",
    "print('Selecione o número da opção desejada:')\n",
    "     \n",
    "print('1 - Soma')\n",
    "print('2 - Subtração')\n",
    "print('3 - Multiplicação')\n",
    "print('4 - Divisão')\n",
    "\n",
    "opcao = int(input('Digite sua opção (1/2/3/4): '))\n",
    "\n",
    "if opcao == 1:\n",
    "    s1 = input('Digite o primeiro número: ')\n",
    "    s2 = input('Digite o segundo número: ')\n",
    "    soma = float(s1) + float(s2)\n",
    "    print('%s + %s = %s' %(s1, s2, soma))\n",
    "    \n",
    "elif opcao == 2:\n",
    "    sub1 = input('Digite o primeiro número: ')\n",
    "    sub2 = input('Digite o segundo número: ')\n",
    "    sub = float(sub1) - float(sub2)\n",
    "    print('%s - %s = %s' %(sub1, sub2, sub))\n",
    "    \n",
    "elif opcao == 3:\n",
    "    m1 = input('Digite o primeiro número: ')\n",
    "    m2 = input('Digite o segundo número: ')\n",
    "    m = float(m1) * float(m2)\n",
    "    print('%s * %s = %s' %(m1, m2, m))\n",
    "    \n",
    "elif opcao == 4:\n",
    "    d1 = input('Digite o primeiro número: ')\n",
    "    d2 = input('Digite o segundo número: ')\n",
    "    d = float(d1) / float(d2)\n",
    "    print('%s / %s = %s' %(d1, d2, d))\n",
    "    \n",
    "else:\n",
    "    print('A opção digitada é inválida!')"
   ]
  },
  {
   "cell_type": "code",
   "execution_count": 3,
   "metadata": {},
   "outputs": [
    {
     "name": "stdout",
     "output_type": "stream",
     "text": [
      "*************** Python Calculator ****************\n",
      "\n",
      "Selecione o número da opção desejada:\n",
      "\n",
      "1 - Soma\n",
      "2 - Subtração\n",
      "3 - Multiplicação\n",
      "4 - Divisão\n",
      "\n",
      "Digite sua opção (1/2/3/4): 1\n",
      "\n",
      "Digite o primeiro número: 1\n",
      "\n",
      "Digite o segundo número: 1\n",
      "\n",
      "1.0 + 1.0 = 2.0\n"
     ]
    }
   ],
   "source": [
    "p = ' Python Calculator '\n",
    "print(p.center(50,'*'))\n",
    "\n",
    "print('\\nSelecione o número da opção desejada:\\n')\n",
    "     \n",
    "print('1 - Soma')\n",
    "print('2 - Subtração')\n",
    "print('3 - Multiplicação')\n",
    "print('4 - Divisão\\n')\n",
    "\n",
    "def soma(s1,s2):\n",
    "    return s1 + s2\n",
    "\n",
    "def subtracao(sub1,sub2):\n",
    "    return sub1 - sub2\n",
    "\n",
    "def mult(m1,m2):\n",
    "    return m1 * m2\n",
    "\n",
    "def div(d1,d2):\n",
    "    return d1 / d2\n",
    "\n",
    "opcao = int(input('Digite sua opção (1/2/3/4): '))\n",
    "\n",
    "n1 = float(input('\\nDigite o primeiro número: '))\n",
    "n2 = float(input('\\nDigite o segundo número: '))\n",
    "\n",
    "\n",
    "if opcao == 1:\n",
    "    print('\\n%s + %s = %s' %(n1, n2, soma(n1,n2)))\n",
    "    \n",
    "elif opcao == 2:\n",
    "    print('\\n%s - %s = %s' %(n1, n2, subtracao(n1,n2)))\n",
    "    \n",
    "elif opcao == 3:\n",
    "    print('\\n%s * %s = %s' %(n1, n2, mult(n1,n2)))\n",
    "    \n",
    "elif opcao == 4:\n",
    "    print('\\n%s / %s = %s' %(n1, n2, div(n1,n2)))\n",
    "    \n",
    "else:\n",
    "    print('\\nA opção digitada é inválida!')"
   ]
  },
  {
   "cell_type": "code",
   "execution_count": null,
   "metadata": {},
   "outputs": [],
   "source": []
  },
  {
   "cell_type": "code",
   "execution_count": null,
   "metadata": {},
   "outputs": [],
   "source": []
  }
 ],
 "metadata": {
  "kernelspec": {
   "display_name": "Python 3",
   "language": "python",
   "name": "python3"
  },
  "language_info": {
   "codemirror_mode": {
    "name": "ipython",
    "version": 3
   },
   "file_extension": ".py",
   "mimetype": "text/x-python",
   "name": "python",
   "nbconvert_exporter": "python",
   "pygments_lexer": "ipython3",
   "version": "3.6.5"
  }
 },
 "nbformat": 4,
 "nbformat_minor": 2
}
