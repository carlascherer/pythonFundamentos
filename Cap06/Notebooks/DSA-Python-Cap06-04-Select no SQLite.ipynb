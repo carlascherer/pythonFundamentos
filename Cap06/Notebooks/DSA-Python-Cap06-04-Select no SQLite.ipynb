{
 "cells": [
  {
   "cell_type": "markdown",
   "metadata": {},
   "source": [
    "# <font color='blue'>Data Science Academy - Python Fundamentos - Capítulo 6</font>\n",
    "\n",
    "## Download: http://github.com/dsacademybr"
   ]
  },
  {
   "cell_type": "markdown",
   "metadata": {},
   "source": [
    "### Leitura de dados"
   ]
  },
  {
   "cell_type": "code",
   "execution_count": 1,
   "metadata": {},
   "outputs": [],
   "source": [
    "import sqlite3\n",
    "import random\n",
    "import time\n",
    "import datetime\n",
    " \n",
    "# Criando uma conexão\n",
    "conn = sqlite3.connect('dsa.db')   \n",
    "\n",
    "# Criando um cursor\n",
    "c = conn.cursor()\n",
    " \n",
    "# Função para criar uma tabela\n",
    "def create_table():\n",
    "    c.execute('CREATE TABLE IF NOT EXISTS produtos(id INTEGER PRIMARY KEY AUTOINCREMENT NOT NULL, date TEXT, '\\\n",
    "              'prod_name TEXT, valor REAL)')\n",
    "\n",
    "# Função para inserir uma linha\n",
    "def data_insert():\n",
    "    c.execute(\"INSERT INTO produtos VALUES(002, '02-05-2016', 'teclado', 130 )\")\n",
    "    conn.commit()\n",
    "    c.close()\n",
    "    conn.close()\n",
    "    \n",
    "# Usando variáveis para inserir dados    \n",
    "def data_insert_var():\n",
    "    new_date = datetime.datetime.now()\n",
    "    new_prod_name = 'monitor'\n",
    "    new_valor = random.randrange(50,100)\n",
    "    c.execute(\"INSERT INTO produtos (date, prod_name, valor) VALUES (?, ?, ?, ?)\", \n",
    "              (new_date, new_prod_name, new_valor))\n",
    "    conn.commit()\n",
    "    \n",
    "# Leitura de dados\n",
    "def leitura_todos_dados():\n",
    "    c.execute(\"SELECT * FROM PRODUTOS\")\n",
    "    for linha in c.fetchall():\n",
    "        print(linha)\n",
    "        \n",
    "# Leitura de registros específicos\n",
    "def leitura_registros():\n",
    "    c.execute(\"SELECT * FROM PRODUTOS WHERE valor > 60.0\")\n",
    "    for linha in c.fetchall():\n",
    "        print(linha)      \n",
    "        \n",
    "# Leitura de colunas específicos\n",
    "def leitura_colunas():\n",
    "    c.execute(\"SELECT * FROM PRODUTOS\")\n",
    "    for linha in c.fetchall():\n",
    "        print(linha[3])         \n"
   ]
  },
  {
   "cell_type": "code",
   "execution_count": 2,
   "metadata": {},
   "outputs": [
    {
     "name": "stdout",
     "output_type": "stream",
     "text": [
      "(10, '2018-05-02 14:32:11', 'Teclado', 90.0)\n",
      "(11, '2020-02-05 07:09:47.779262', 'Monitor', 91.0)\n",
      "(12, '2020-02-05 07:09:49.135232', 'Monitor', 88.0)\n",
      "(13, '2020-02-05 07:09:50.321576', 'Monitor', 90.0)\n",
      "(14, '2020-02-05 07:09:51.425742', 'Monitor', 74.0)\n",
      "(15, '2020-02-05 07:09:52.530755', 'Monitor', 94.0)\n",
      "(16, '2020-02-05 07:09:53.670351', 'Monitor', 78.0)\n",
      "(17, '2020-02-05 07:09:54.815670', 'Monitor', 50.0)\n",
      "(18, '2020-02-05 07:09:55.949403', 'Monitor', 52.0)\n",
      "(19, '2020-02-05 07:09:57.087627', 'Monitor', 59.0)\n",
      "(20, '2020-02-05 07:09:58.271493', 'Monitor', 96.0)\n",
      "(21, '2020-02-05 07:18:56.806423', 'Monitor', 72.0)\n",
      "(22, '2020-02-05 07:18:57.138175', 'Monitor', 52.0)\n",
      "(23, '2020-02-05 07:18:58.377042', 'Monitor', 81.0)\n",
      "(24, '2020-02-05 07:19:00.578661', 'Monitor', 87.0)\n",
      "(25, '2020-02-05 07:19:03.751272', 'Monitor', 56.0)\n",
      "(26, '2020-02-05 07:19:07.944578', 'Monitor', 77.0)\n",
      "(27, '2020-02-05 07:19:13.261374', 'Monitor', 78.0)\n",
      "(28, '2020-02-05 07:19:19.396219', 'Monitor', 62.0)\n",
      "(29, '2020-02-05 07:19:27.956327', 'Monitor', 69.0)\n",
      "(30, '2020-02-05 07:19:36.236298', 'Monitor', 72.0)\n"
     ]
    }
   ],
   "source": [
    "# Select nos dados\n",
    "leitura_todos_dados()"
   ]
  },
  {
   "cell_type": "code",
   "execution_count": 3,
   "metadata": {},
   "outputs": [
    {
     "name": "stdout",
     "output_type": "stream",
     "text": [
      "(10, '2018-05-02 14:32:11', 'Teclado', 90.0)\n",
      "(11, '2020-02-05 07:09:47.779262', 'Monitor', 91.0)\n",
      "(12, '2020-02-05 07:09:49.135232', 'Monitor', 88.0)\n",
      "(13, '2020-02-05 07:09:50.321576', 'Monitor', 90.0)\n",
      "(14, '2020-02-05 07:09:51.425742', 'Monitor', 74.0)\n",
      "(15, '2020-02-05 07:09:52.530755', 'Monitor', 94.0)\n",
      "(16, '2020-02-05 07:09:53.670351', 'Monitor', 78.0)\n",
      "(20, '2020-02-05 07:09:58.271493', 'Monitor', 96.0)\n",
      "(21, '2020-02-05 07:18:56.806423', 'Monitor', 72.0)\n",
      "(23, '2020-02-05 07:18:58.377042', 'Monitor', 81.0)\n",
      "(24, '2020-02-05 07:19:00.578661', 'Monitor', 87.0)\n",
      "(26, '2020-02-05 07:19:07.944578', 'Monitor', 77.0)\n",
      "(27, '2020-02-05 07:19:13.261374', 'Monitor', 78.0)\n",
      "(28, '2020-02-05 07:19:19.396219', 'Monitor', 62.0)\n",
      "(29, '2020-02-05 07:19:27.956327', 'Monitor', 69.0)\n",
      "(30, '2020-02-05 07:19:36.236298', 'Monitor', 72.0)\n"
     ]
    }
   ],
   "source": [
    "# Leitura de registros específicos\n",
    "leitura_registros()"
   ]
  },
  {
   "cell_type": "code",
   "execution_count": 4,
   "metadata": {},
   "outputs": [
    {
     "name": "stdout",
     "output_type": "stream",
     "text": [
      "90.0\n",
      "91.0\n",
      "88.0\n",
      "90.0\n",
      "74.0\n",
      "94.0\n",
      "78.0\n",
      "50.0\n",
      "52.0\n",
      "59.0\n",
      "96.0\n",
      "72.0\n",
      "52.0\n",
      "81.0\n",
      "87.0\n",
      "56.0\n",
      "77.0\n",
      "78.0\n",
      "62.0\n",
      "69.0\n",
      "72.0\n"
     ]
    }
   ],
   "source": [
    "# Leitura de colunas específicas\n",
    "leitura_colunas()"
   ]
  },
  {
   "cell_type": "code",
   "execution_count": 5,
   "metadata": {},
   "outputs": [],
   "source": [
    "# Encerrando a conexão\n",
    "c.close()\n",
    "conn.close()"
   ]
  },
  {
   "cell_type": "markdown",
   "metadata": {},
   "source": [
    "# Fim"
   ]
  },
  {
   "cell_type": "markdown",
   "metadata": {},
   "source": [
    "### Obrigado - Data Science Academy - <a href=\"http://facebook.com/dsacademybr\">facebook.com/dsacademybr</a>"
   ]
  }
 ],
 "metadata": {
  "kernelspec": {
   "display_name": "Python 3",
   "language": "python",
   "name": "python3"
  },
  "language_info": {
   "codemirror_mode": {
    "name": "ipython",
    "version": 3
   },
   "file_extension": ".py",
   "mimetype": "text/x-python",
   "name": "python",
   "nbconvert_exporter": "python",
   "pygments_lexer": "ipython3",
   "version": "3.6.5"
  }
 },
 "nbformat": 4,
 "nbformat_minor": 1
}
