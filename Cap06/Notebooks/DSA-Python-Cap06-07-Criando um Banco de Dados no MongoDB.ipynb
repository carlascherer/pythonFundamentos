{
 "cells": [
  {
   "cell_type": "markdown",
   "metadata": {},
   "source": [
    "# <font color='blue'>Data Science Academy - Python Fundamentos - Capítulo 6</font>\n",
    "\n",
    "## Download: http://github.com/dsacademybr"
   ]
  },
  {
   "cell_type": "markdown",
   "metadata": {},
   "source": [
    "### Gravando Dados no MongoDB com PyMongo"
   ]
  },
  {
   "cell_type": "code",
   "execution_count": 1,
   "metadata": {},
   "outputs": [
    {
     "name": "stdout",
     "output_type": "stream",
     "text": [
      "Requirement already satisfied: jsonschema==3.0.1 from file:///C:/PythonFundamentos/Cap06/Notebooks/jsonschema-3.0.1-py2.py3-none-any.whl in c:\\users\\carla\\anaconda3\\lib\\site-packages (3.0.1)\n",
      "Requirement already satisfied: attrs>=17.4.0 in c:\\users\\carla\\anaconda3\\lib\\site-packages (from jsonschema==3.0.1) (18.1.0)\n",
      "Requirement already satisfied: pyrsistent>=0.14.0 in c:\\users\\carla\\anaconda3\\lib\\site-packages (from jsonschema==3.0.1) (0.15.7)\n",
      "Requirement already satisfied: setuptools in c:\\users\\carla\\anaconda3\\lib\\site-packages (from jsonschema==3.0.1) (39.1.0)\n",
      "Requirement already satisfied: six>=1.11.0 in c:\\users\\carla\\anaconda3\\lib\\site-packages (from jsonschema==3.0.1) (1.11.0)\n"
     ]
    },
    {
     "name": "stderr",
     "output_type": "stream",
     "text": [
      "You are using pip version 10.0.1, however version 20.0.2 is available.\n",
      "You should consider upgrading via the 'python -m pip install --upgrade pip' command.\n"
     ]
    },
    {
     "name": "stdout",
     "output_type": "stream",
     "text": [
      "Requirement already satisfied: msgpack in c:\\users\\carla\\anaconda3\\lib\\site-packages (0.6.2)\n"
     ]
    },
    {
     "name": "stderr",
     "output_type": "stream",
     "text": [
      "You are using pip version 10.0.1, however version 20.0.2 is available.\n",
      "You should consider upgrading via the 'python -m pip install --upgrade pip' command.\n"
     ]
    },
    {
     "name": "stdout",
     "output_type": "stream",
     "text": [
      "Requirement already satisfied: pymongo in c:\\users\\carla\\anaconda3\\lib\\site-packages (3.10.1)\n"
     ]
    },
    {
     "name": "stderr",
     "output_type": "stream",
     "text": [
      "You are using pip version 10.0.1, however version 20.0.2 is available.\n",
      "You should consider upgrading via the 'python -m pip install --upgrade pip' command.\n"
     ]
    }
   ],
   "source": [
    "!pip install jsonschema-3.0.1-py2.py3-none-any.whl\n",
    "!pip install msgpack\n",
    "!pip install pymongo"
   ]
  },
  {
   "cell_type": "code",
   "execution_count": 2,
   "metadata": {},
   "outputs": [],
   "source": [
    "# Importamos o MongoClient para conectar nossa aplicação ao MongoDB\n",
    "from pymongo import MongoClient"
   ]
  },
  {
   "cell_type": "code",
   "execution_count": 3,
   "metadata": {},
   "outputs": [],
   "source": [
    "# Estabelecemos a conexão ao Banco de Dados\n",
    "conn = MongoClient('localhost', 27017)"
   ]
  },
  {
   "cell_type": "code",
   "execution_count": 4,
   "metadata": {},
   "outputs": [
    {
     "data": {
      "text/plain": [
       "pymongo.mongo_client.MongoClient"
      ]
     },
     "execution_count": 4,
     "metadata": {},
     "output_type": "execute_result"
    }
   ],
   "source": [
    "type(conn)"
   ]
  },
  {
   "cell_type": "code",
   "execution_count": 5,
   "metadata": {},
   "outputs": [],
   "source": [
    "# Uma única instância do MongoDB pode suportar diversos bancos de dados. \n",
    "# Vamos criar o banco de dados cadastrodb\n",
    "db = conn.cadastrodb"
   ]
  },
  {
   "cell_type": "code",
   "execution_count": 6,
   "metadata": {},
   "outputs": [
    {
     "data": {
      "text/plain": [
       "pymongo.database.Database"
      ]
     },
     "execution_count": 6,
     "metadata": {},
     "output_type": "execute_result"
    }
   ],
   "source": [
    "type(db)"
   ]
  },
  {
   "cell_type": "code",
   "execution_count": 7,
   "metadata": {},
   "outputs": [],
   "source": [
    "# Uma coleção é um grupo de documentos armazenados no MongoDB \n",
    "# (relativamente parecido com o conceito de tabelas em bancos relacionais)\n",
    "collection = db.cadastrodb"
   ]
  },
  {
   "cell_type": "code",
   "execution_count": 8,
   "metadata": {},
   "outputs": [
    {
     "data": {
      "text/plain": [
       "pymongo.collection.Collection"
      ]
     },
     "execution_count": 8,
     "metadata": {},
     "output_type": "execute_result"
    }
   ],
   "source": [
    "type(collection)"
   ]
  },
  {
   "cell_type": "markdown",
   "metadata": {},
   "source": [
    "Uma nota importante sobre coleções (e bancos de dados) no MongoDB é que eles são criados posteriormente - nenhum dos comandos acima executou efetivamente qualquer operação no servidor MongoDB. Coleções e bancos de dados são criados quando o primeiro documento é inserido."
   ]
  },
  {
   "cell_type": "code",
   "execution_count": 9,
   "metadata": {},
   "outputs": [],
   "source": [
    "import datetime"
   ]
  },
  {
   "cell_type": "markdown",
   "metadata": {},
   "source": [
    "Dados no MongoDB são representados (e armazenados) usando documentos JSON (Java Script Object Notation). Com o PyMongo usamos dicionários para representar documentos."
   ]
  },
  {
   "cell_type": "code",
   "execution_count": 10,
   "metadata": {},
   "outputs": [],
   "source": [
    "post1 = {\"codigo\": \"ID-9987725\",\n",
    "        \"prod_name\": \"Geladeira\",\n",
    "        \"marcas\": [\"brastemp\", \"consul\", \"elecrolux\"],\n",
    "        \"data_cadastro\": datetime.datetime.utcnow()}"
   ]
  },
  {
   "cell_type": "code",
   "execution_count": 11,
   "metadata": {},
   "outputs": [
    {
     "data": {
      "text/plain": [
       "dict"
      ]
     },
     "execution_count": 11,
     "metadata": {},
     "output_type": "execute_result"
    }
   ],
   "source": [
    "type(post1)"
   ]
  },
  {
   "cell_type": "code",
   "execution_count": 12,
   "metadata": {},
   "outputs": [],
   "source": [
    "collection = db.posts"
   ]
  },
  {
   "cell_type": "code",
   "execution_count": 13,
   "metadata": {},
   "outputs": [
    {
     "data": {
      "text/plain": [
       "pymongo.collection.Collection"
      ]
     },
     "execution_count": 13,
     "metadata": {},
     "output_type": "execute_result"
    }
   ],
   "source": [
    "type(collection)"
   ]
  },
  {
   "cell_type": "code",
   "execution_count": 15,
   "metadata": {},
   "outputs": [
    {
     "data": {
      "text/plain": [
       "['cadastrodb', 'posts']"
      ]
     },
     "execution_count": 15,
     "metadata": {},
     "output_type": "execute_result"
    }
   ],
   "source": [
    "db.list_collection_names()"
   ]
  },
  {
   "cell_type": "code",
   "execution_count": 16,
   "metadata": {},
   "outputs": [],
   "source": [
    "post_id = collection.insert_one(post1)"
   ]
  },
  {
   "cell_type": "code",
   "execution_count": 17,
   "metadata": {},
   "outputs": [
    {
     "data": {
      "text/plain": [
       "ObjectId('5e3c2bc899a38c80bbd185b8')"
      ]
     },
     "execution_count": 17,
     "metadata": {},
     "output_type": "execute_result"
    }
   ],
   "source": [
    "post_id.inserted_id"
   ]
  },
  {
   "cell_type": "code",
   "execution_count": 18,
   "metadata": {},
   "outputs": [
    {
     "data": {
      "text/plain": [
       "<pymongo.results.InsertOneResult at 0x265b2187948>"
      ]
     },
     "execution_count": 18,
     "metadata": {},
     "output_type": "execute_result"
    }
   ],
   "source": [
    "# Quando um documento é inserido uma chave especial, \"_id\", é adicionada \n",
    "# automaticamente se o documento ainda não contém uma chave \"_id\".\n",
    "post_id"
   ]
  },
  {
   "cell_type": "code",
   "execution_count": 19,
   "metadata": {},
   "outputs": [],
   "source": [
    "post2 = {\"codigo\": \"ID-2209876\",\n",
    "        \"prod_name\": \"Televisor\",\n",
    "        \"marcas\": [\"samsung\", \"panasonic\", \"lg\"],\n",
    "        \"data_cadastro\": datetime.datetime.utcnow()}"
   ]
  },
  {
   "cell_type": "code",
   "execution_count": 20,
   "metadata": {},
   "outputs": [],
   "source": [
    "collection = db.posts"
   ]
  },
  {
   "cell_type": "code",
   "execution_count": 21,
   "metadata": {},
   "outputs": [],
   "source": [
    "post_id = collection.insert_one(post2).inserted_id"
   ]
  },
  {
   "cell_type": "code",
   "execution_count": 22,
   "metadata": {},
   "outputs": [
    {
     "data": {
      "text/plain": [
       "ObjectId('5e3c2be699a38c80bbd185b9')"
      ]
     },
     "execution_count": 22,
     "metadata": {},
     "output_type": "execute_result"
    }
   ],
   "source": [
    "post_id"
   ]
  },
  {
   "cell_type": "code",
   "execution_count": 23,
   "metadata": {
    "scrolled": true
   },
   "outputs": [
    {
     "data": {
      "text/plain": [
       "{'_id': ObjectId('5e3c254c301ad264caca7310'),\n",
       " 'codigo': 'ID-2209876',\n",
       " 'prod_name': 'Televisor',\n",
       " 'marcas': ['samsung', 'panasonic', 'lg'],\n",
       " 'data_cadastro': datetime.datetime(2020, 2, 6, 14, 39, 54, 334000)}"
      ]
     },
     "execution_count": 23,
     "metadata": {},
     "output_type": "execute_result"
    }
   ],
   "source": [
    "collection.find_one({\"prod_name\": \"Televisor\"})"
   ]
  },
  {
   "cell_type": "code",
   "execution_count": 24,
   "metadata": {},
   "outputs": [
    {
     "name": "stdout",
     "output_type": "stream",
     "text": [
      "Help on method find in module pymongo.collection:\n",
      "\n",
      "find(*args, **kwargs) method of pymongo.collection.Collection instance\n",
      "    Query the database.\n",
      "    \n",
      "    The `filter` argument is a prototype document that all results\n",
      "    must match. For example:\n",
      "    \n",
      "    >>> db.test.find({\"hello\": \"world\"})\n",
      "    \n",
      "    only matches documents that have a key \"hello\" with value\n",
      "    \"world\".  Matches can have other keys *in addition* to\n",
      "    \"hello\". The `projection` argument is used to specify a subset\n",
      "    of fields that should be included in the result documents. By\n",
      "    limiting results to a certain subset of fields you can cut\n",
      "    down on network traffic and decoding time.\n",
      "    \n",
      "    Raises :class:`TypeError` if any of the arguments are of\n",
      "    improper type. Returns an instance of\n",
      "    :class:`~pymongo.cursor.Cursor` corresponding to this query.\n",
      "    \n",
      "    The :meth:`find` method obeys the :attr:`read_preference` of\n",
      "    this :class:`Collection`.\n",
      "    \n",
      "    :Parameters:\n",
      "      - `filter` (optional): a SON object specifying elements which\n",
      "        must be present for a document to be included in the\n",
      "        result set\n",
      "      - `projection` (optional): a list of field names that should be\n",
      "        returned in the result set or a dict specifying the fields\n",
      "        to include or exclude. If `projection` is a list \"_id\" will\n",
      "        always be returned. Use a dict to exclude fields from\n",
      "        the result (e.g. projection={'_id': False}).\n",
      "      - `session` (optional): a\n",
      "        :class:`~pymongo.client_session.ClientSession`.\n",
      "      - `skip` (optional): the number of documents to omit (from\n",
      "        the start of the result set) when returning the results\n",
      "      - `limit` (optional): the maximum number of results to\n",
      "        return. A limit of 0 (the default) is equivalent to setting no\n",
      "        limit.\n",
      "      - `no_cursor_timeout` (optional): if False (the default), any\n",
      "        returned cursor is closed by the server after 10 minutes of\n",
      "        inactivity. If set to True, the returned cursor will never\n",
      "        time out on the server. Care should be taken to ensure that\n",
      "        cursors with no_cursor_timeout turned on are properly closed.\n",
      "      - `cursor_type` (optional): the type of cursor to return. The valid\n",
      "        options are defined by :class:`~pymongo.cursor.CursorType`:\n",
      "    \n",
      "        - :attr:`~pymongo.cursor.CursorType.NON_TAILABLE` - the result of\n",
      "          this find call will return a standard cursor over the result set.\n",
      "        - :attr:`~pymongo.cursor.CursorType.TAILABLE` - the result of this\n",
      "          find call will be a tailable cursor - tailable cursors are only\n",
      "          for use with capped collections. They are not closed when the\n",
      "          last data is retrieved but are kept open and the cursor location\n",
      "          marks the final document position. If more data is received\n",
      "          iteration of the cursor will continue from the last document\n",
      "          received. For details, see the `tailable cursor documentation\n",
      "          <http://www.mongodb.org/display/DOCS/Tailable+Cursors>`_.\n",
      "        - :attr:`~pymongo.cursor.CursorType.TAILABLE_AWAIT` - the result\n",
      "          of this find call will be a tailable cursor with the await flag\n",
      "          set. The server will wait for a few seconds after returning the\n",
      "          full result set so that it can capture and return additional data\n",
      "          added during the query.\n",
      "        - :attr:`~pymongo.cursor.CursorType.EXHAUST` - the result of this\n",
      "          find call will be an exhaust cursor. MongoDB will stream batched\n",
      "          results to the client without waiting for the client to request\n",
      "          each batch, reducing latency. See notes on compatibility below.\n",
      "    \n",
      "      - `sort` (optional): a list of (key, direction) pairs\n",
      "        specifying the sort order for this query. See\n",
      "        :meth:`~pymongo.cursor.Cursor.sort` for details.\n",
      "      - `allow_partial_results` (optional): if True, mongos will return\n",
      "        partial results if some shards are down instead of returning an\n",
      "        error.\n",
      "      - `oplog_replay` (optional): If True, set the oplogReplay query\n",
      "        flag.\n",
      "      - `batch_size` (optional): Limits the number of documents returned in\n",
      "        a single batch.\n",
      "      - `manipulate` (optional): **DEPRECATED** - If True (the default),\n",
      "        apply any outgoing SON manipulators before returning.\n",
      "      - `collation` (optional): An instance of\n",
      "        :class:`~pymongo.collation.Collation`. This option is only supported\n",
      "        on MongoDB 3.4 and above.\n",
      "      - `return_key` (optional): If True, return only the index keys in\n",
      "        each document.\n",
      "      - `show_record_id` (optional): If True, adds a field ``$recordId`` in\n",
      "        each document with the storage engine's internal record identifier.\n",
      "      - `snapshot` (optional): **DEPRECATED** - If True, prevents the\n",
      "        cursor from returning a document more than once because of an\n",
      "        intervening write operation.\n",
      "      - `hint` (optional): An index, in the same format as passed to\n",
      "        :meth:`~pymongo.collection.Collection.create_index` (e.g.\n",
      "        ``[('field', ASCENDING)]``). Pass this as an alternative to calling\n",
      "        :meth:`~pymongo.cursor.Cursor.hint` on the cursor to tell Mongo the\n",
      "        proper index to use for the query.\n",
      "      - `max_time_ms` (optional): Specifies a time limit for a query\n",
      "        operation. If the specified time is exceeded, the operation will be\n",
      "        aborted and :exc:`~pymongo.errors.ExecutionTimeout` is raised. Pass\n",
      "        this as an alternative to calling\n",
      "        :meth:`~pymongo.cursor.Cursor.max_time_ms` on the cursor.\n",
      "      - `max_scan` (optional): **DEPRECATED** - The maximum number of\n",
      "        documents to scan. Pass this as an alternative to calling\n",
      "        :meth:`~pymongo.cursor.Cursor.max_scan` on the cursor.\n",
      "      - `min` (optional): A list of field, limit pairs specifying the\n",
      "        inclusive lower bound for all keys of a specific index in order.\n",
      "        Pass this as an alternative to calling\n",
      "        :meth:`~pymongo.cursor.Cursor.min` on the cursor. ``hint`` must\n",
      "        also be passed to ensure the query utilizes the correct index.\n",
      "      - `max` (optional): A list of field, limit pairs specifying the\n",
      "        exclusive upper bound for all keys of a specific index in order.\n",
      "        Pass this as an alternative to calling\n",
      "        :meth:`~pymongo.cursor.Cursor.max` on the cursor. ``hint`` must\n",
      "        also be passed to ensure the query utilizes the correct index.\n",
      "      - `comment` (optional): A string to attach to the query to help\n",
      "        interpret and trace the operation in the server logs and in profile\n",
      "        data. Pass this as an alternative to calling\n",
      "        :meth:`~pymongo.cursor.Cursor.comment` on the cursor.\n",
      "      - `modifiers` (optional): **DEPRECATED** - A dict specifying\n",
      "        additional MongoDB query modifiers. Use the keyword arguments listed\n",
      "        above instead.\n",
      "    \n",
      "    .. note:: There are a number of caveats to using\n",
      "      :attr:`~pymongo.cursor.CursorType.EXHAUST` as cursor_type:\n",
      "    \n",
      "      - The `limit` option can not be used with an exhaust cursor.\n",
      "    \n",
      "      - Exhaust cursors are not supported by mongos and can not be\n",
      "        used with a sharded cluster.\n",
      "    \n",
      "      - A :class:`~pymongo.cursor.Cursor` instance created with the\n",
      "        :attr:`~pymongo.cursor.CursorType.EXHAUST` cursor_type requires an\n",
      "        exclusive :class:`~socket.socket` connection to MongoDB. If the\n",
      "        :class:`~pymongo.cursor.Cursor` is discarded without being\n",
      "        completely iterated the underlying :class:`~socket.socket`\n",
      "        connection will be closed and discarded without being returned to\n",
      "        the connection pool.\n",
      "    \n",
      "    .. versionchanged:: 3.7\n",
      "       Deprecated the `snapshot` option, which is deprecated in MongoDB\n",
      "       3.6 and removed in MongoDB 4.0.\n",
      "       Deprecated the `max_scan` option. Support for this option is\n",
      "       deprecated in MongoDB 4.0. Use `max_time_ms` instead to limit server\n",
      "       side execution time.\n",
      "    \n",
      "    \n",
      "    .. versionchanged:: 3.6\n",
      "       Added ``session`` parameter.\n",
      "    \n",
      "    .. versionchanged:: 3.5\n",
      "       Added the options `return_key`, `show_record_id`, `snapshot`,\n",
      "       `hint`, `max_time_ms`, `max_scan`, `min`, `max`, and `comment`.\n",
      "       Deprecated the option `modifiers`.\n",
      "    \n",
      "    .. versionchanged:: 3.4\n",
      "       Support the `collation` option.\n",
      "    \n",
      "    .. versionchanged:: 3.0\n",
      "       Changed the parameter names `spec`, `fields`, `timeout`, and\n",
      "       `partial` to `filter`, `projection`, `no_cursor_timeout`, and\n",
      "       `allow_partial_results` respectively.\n",
      "       Added the `cursor_type`, `oplog_replay`, and `modifiers` options.\n",
      "       Removed the `network_timeout`, `read_preference`, `tag_sets`,\n",
      "       `secondary_acceptable_latency_ms`, `max_scan`, `snapshot`,\n",
      "       `tailable`, `await_data`, `exhaust`, `as_class`, and slave_okay\n",
      "       parameters. Removed `compile_re` option: PyMongo now always\n",
      "       represents BSON regular expressions as :class:`~bson.regex.Regex`\n",
      "       objects. Use :meth:`~bson.regex.Regex.try_compile` to attempt to\n",
      "       convert from a BSON regular expression to a Python regular\n",
      "       expression object. Soft deprecated the `manipulate` option.\n",
      "    \n",
      "    .. versionchanged:: 2.7\n",
      "       Added `compile_re` option. If set to False, PyMongo represented BSON\n",
      "       regular expressions as :class:`~bson.regex.Regex` objects instead of\n",
      "       attempting to compile BSON regular expressions as Python native\n",
      "       regular expressions, thus preventing errors for some incompatible\n",
      "       patterns, see `PYTHON-500`_.\n",
      "    \n",
      "    .. versionadded:: 2.3\n",
      "       The `tag_sets` and `secondary_acceptable_latency_ms` parameters.\n",
      "    \n",
      "    .. _PYTHON-500: https://jira.mongodb.org/browse/PYTHON-500\n",
      "    \n",
      "    .. mongodoc:: find\n",
      "\n"
     ]
    }
   ],
   "source": [
    "help(collection.find)"
   ]
  },
  {
   "cell_type": "code",
   "execution_count": 25,
   "metadata": {},
   "outputs": [
    {
     "name": "stdout",
     "output_type": "stream",
     "text": [
      "{'_id': ObjectId('5e3c254c301ad264caca7310'), 'codigo': 'ID-2209876', 'prod_name': 'Televisor', 'marcas': ['samsung', 'panasonic', 'lg'], 'data_cadastro': datetime.datetime(2020, 2, 6, 14, 39, 54, 334000)}\n",
      "{'_id': ObjectId('5e3c2bc899a38c80bbd185b8'), 'codigo': 'ID-9987725', 'prod_name': 'Geladeira', 'marcas': ['brastemp', 'consul', 'elecrolux'], 'data_cadastro': datetime.datetime(2020, 2, 6, 15, 6, 2, 618000)}\n",
      "{'_id': ObjectId('5e3c2be699a38c80bbd185b9'), 'codigo': 'ID-2209876', 'prod_name': 'Televisor', 'marcas': ['samsung', 'panasonic', 'lg'], 'data_cadastro': datetime.datetime(2020, 2, 6, 15, 8, 13, 866000)}\n"
     ]
    }
   ],
   "source": [
    "# A função find() retorna um cursor e podemos então navegar pelos dados\n",
    "for post in collection.find():\n",
    "    print(post)"
   ]
  },
  {
   "cell_type": "code",
   "execution_count": 26,
   "metadata": {},
   "outputs": [
    {
     "data": {
      "text/plain": [
       "'cadastrodb'"
      ]
     },
     "execution_count": 26,
     "metadata": {},
     "output_type": "execute_result"
    }
   ],
   "source": [
    "# Verificando o nome do banco de dados\n",
    "db.name"
   ]
  },
  {
   "cell_type": "code",
   "execution_count": 27,
   "metadata": {},
   "outputs": [
    {
     "name": "stderr",
     "output_type": "stream",
     "text": [
      "C:\\Users\\carla\\Anaconda3\\lib\\site-packages\\ipykernel_launcher.py:2: DeprecationWarning: collection_names is deprecated. Use list_collection_names instead.\n",
      "  \n"
     ]
    },
    {
     "data": {
      "text/plain": [
       "['cadastrodb', 'posts']"
      ]
     },
     "execution_count": 27,
     "metadata": {},
     "output_type": "execute_result"
    }
   ],
   "source": [
    "# Listando as coleções disponíveis\n",
    "db.collection_names()"
   ]
  },
  {
   "cell_type": "markdown",
   "metadata": {},
   "source": [
    "# Fim"
   ]
  },
  {
   "cell_type": "markdown",
   "metadata": {},
   "source": [
    "### Obrigado - Data Science Academy - <a href=\"http://facebook.com/dsacademybr\">facebook.com/dsacademybr</a>"
   ]
  }
 ],
 "metadata": {
  "kernelspec": {
   "display_name": "Python 3",
   "language": "python",
   "name": "python3"
  },
  "language_info": {
   "codemirror_mode": {
    "name": "ipython",
    "version": 3
   },
   "file_extension": ".py",
   "mimetype": "text/x-python",
   "name": "python",
   "nbconvert_exporter": "python",
   "pygments_lexer": "ipython3",
   "version": "3.6.5"
  }
 },
 "nbformat": 4,
 "nbformat_minor": 1
}
