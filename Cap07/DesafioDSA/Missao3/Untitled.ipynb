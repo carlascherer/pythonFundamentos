{
 "cells": [
  {
   "cell_type": "code",
   "execution_count": 6,
   "metadata": {},
   "outputs": [],
   "source": [
    "matrix = [[1] * 4 for _ in range(8)]\n",
    "matrix[1][1] = 0\n",
    "matrix[2][2] = 0\n",
    "matrix[3][0] = 0\n",
    "matrix[4][2] = 0\n",
    "matrix[5][3] = 0\n",
    "matrix[6][1] = 0\n",
    "matrix[6][3] = 0\n",
    "matrix[7][1] = 0"
   ]
  },
  {
   "cell_type": "code",
   "execution_count": 7,
   "metadata": {},
   "outputs": [
    {
     "data": {
      "text/plain": [
       "[[1, 1, 1, 1],\n",
       " [1, 0, 1, 1],\n",
       " [1, 1, 0, 1],\n",
       " [0, 1, 1, 1],\n",
       " [1, 1, 0, 1],\n",
       " [1, 1, 1, 0],\n",
       " [1, 0, 1, 0],\n",
       " [1, 0, 1, 1]]"
      ]
     },
     "execution_count": 7,
     "metadata": {},
     "output_type": "execute_result"
    }
   ],
   "source": [
    "matrix"
   ]
  },
  {
   "cell_type": "code",
   "execution_count": 9,
   "metadata": {},
   "outputs": [
    {
     "data": {
      "text/plain": [
       "4"
      ]
     },
     "execution_count": 9,
     "metadata": {},
     "output_type": "execute_result"
    }
   ],
   "source": [
    "len(matrix[0])"
   ]
  },
  {
   "cell_type": "code",
   "execution_count": 32,
   "metadata": {},
   "outputs": [
    {
     "name": "stdout",
     "output_type": "stream",
     "text": [
      "1\n",
      "1\n"
     ]
    }
   ],
   "source": [
    "matrix[0][0]\n",
    "linha = 0\n",
    "coluna = 0\n",
    "\n",
    "\n",
    "print(matrix[linha+1][coluna])\n",
    "print(matrix[linha][coluna+1])\n"
   ]
  },
  {
   "cell_type": "code",
   "execution_count": 27,
   "metadata": {},
   "outputs": [
    {
     "name": "stdout",
     "output_type": "stream",
     "text": [
      "Digite a linha inicial: 0\n",
      "Digite a coluna inicial: 0\n",
      "[(0, 0)]\n",
      "[(0, 0), (1, 0)]\n",
      "[(0, 0), (1, 0), (2, 0)]\n",
      "[(0, 0), (1, 0), (2, 0), (3, 1)]\n",
      "[(0, 0), (1, 0), (2, 0), (3, 1), (1, 2)]\n",
      "[(0, 0), (1, 0), (2, 0), (3, 1), (1, 2), (1, 2)]\n",
      "[(0, 0), (1, 0), (2, 0), (3, 1), (1, 2), (1, 2), (2, 3)]\n"
     ]
    }
   ],
   "source": [
    "linha = int(input(\"Digite a linha inicial: \"))\n",
    "coluna = int(input(\"Digite a coluna inicial: \"))\n",
    "\n",
    "\n",
    "#teste localização linhas e colunas\n",
    "\n",
    "\n",
    "\n",
    "\n",
    "\n",
    "\n",
    "resultado = []\n",
    "if matrix[linha][coluna] == 0:\n",
    "    print('entrada invalida')\n",
    "else:\n",
    "    resultado.append((linha,coluna))\n",
    "    linha += 1\n",
    "    print(resultado)\n",
    "    while linha < (len(matrix)-1) and coluna < (len(matrix[0])-1):\n",
    "        if matrix[linha][coluna] == 1:\n",
    "            resultado.append((linha,coluna))\n",
    "            linha += 1\n",
    "        else:\n",
    "            coluna += 1\n",
    "            if matrix[linha][coluna] == 0\n",
    "            \n",
    "            \n",
    "            \n",
    "            \n",
    "            \n",
    "            \n",
    "            if matrix[linha][coluna] == 1:\n",
    "                resultado.append((linha,coluna))\n",
    "                linha =+ 1\n",
    "            else:\n",
    "                print('nao')\n",
    "        print(resultado)"
   ]
  },
  {
   "cell_type": "code",
   "execution_count": 23,
   "metadata": {},
   "outputs": [
    {
     "name": "stdout",
     "output_type": "stream",
     "text": [
      "[]\n",
      "primeiro linha coluna 1 0\n",
      "Primeiro if\n",
      "[(0, 0)]\n",
      "primeiro linha coluna 2 0\n",
      "Primeiro if\n",
      "[(0, 0), (1, 0)]\n",
      "primeiro linha coluna 3 0\n",
      "Primeiro if\n",
      "[(0, 0), (1, 0), (2, 0)]\n",
      "segundo linha coluna 3 1\n",
      "segundo if\n",
      "[(0, 0), (1, 0), (2, 0), (3, 0)]\n",
      "primeiro linha coluna 4 1\n",
      "Primeiro if\n",
      "[(0, 0), (1, 0), (2, 0), (3, 0), (3, 1)]\n",
      "primeiro linha coluna 5 1\n",
      "Primeiro if\n",
      "[(0, 0), (1, 0), (2, 0), (3, 0), (3, 1), (4, 1)]\n",
      "primeiro linha coluna 6 1\n",
      "Primeiro if\n",
      "[(0, 0), (1, 0), (2, 0), (3, 0), (3, 1), (4, 1), (5, 1)]\n",
      "segundo linha coluna 6 2\n",
      "segundo if\n",
      "[(0, 0), (1, 0), (2, 0), (3, 0), (3, 1), (4, 1), (5, 1), (6, 1)]\n",
      "primeiro linha coluna 7 2\n",
      "Primeiro if\n",
      "[(0, 0), (1, 0), (2, 0), (3, 0), (3, 1), (4, 1), (5, 1), (6, 1), (6, 2)]\n",
      "primeiro linha coluna 8 2\n",
      "Primeiro if\n",
      "[(0, 0), (1, 0), (2, 0), (3, 0), (3, 1), (4, 1), (5, 1), (6, 1), (6, 2), (7, 2)]\n",
      "[(0, 0), (1, 0), (2, 0), (3, 0), (3, 1), (4, 1), (5, 1), (6, 1), (6, 2), (7, 2)]\n"
     ]
    }
   ],
   "source": [
    "matrix = [[1] * 4 for _ in range(8)]\n",
    "matrix[1][1] = 0\n",
    "matrix[2][2] = 0\n",
    "matrix[3][0] = 0\n",
    "matrix[4][2] = 0\n",
    "matrix[5][3] = 0\n",
    "matrix[6][1] = 0\n",
    "matrix[6][3] = 0\n",
    "matrix[7][1] = 0\n",
    "\n",
    "linha_indices = [index for index,conteudo in list(enumerate(matrix))]\n",
    "coluna_indices = [index for index,conteudo in list(enumerate(matrix[0]))]\n",
    "\n",
    "linha = linha_indices[0]\n",
    "coluna = coluna_indices[0]\n",
    "resultado = []\n",
    "print(resultado)\n",
    "\n",
    "while linha < len(linha_indices) and coluna < len(coluna_indices):\n",
    "    if matrix[linha][coluna] == 1:\n",
    "        (linha,coluna) = (linha,coluna)\n",
    "        resultado.append((linha,coluna))\n",
    "        (linha,coluna) = (linha+1,coluna)\n",
    "        print('primeiro linha coluna',str(linha),str(coluna))\n",
    "        print('Primeiro if')\n",
    "        print(resultado)\n",
    "    else:\n",
    "        if matrix[linha][coluna+1] == 1:\n",
    "            resultado.append((linha,coluna))\n",
    "            (linha,coluna) = (linha,coluna+1)\n",
    "            print('segundo linha coluna',str(linha),str(coluna))\n",
    "            print('segundo if')\n",
    "            print(resultado)\n",
    "        else:\n",
    "            raise None\n",
    "print(resultado)"
   ]
  },
  {
   "cell_type": "code",
   "execution_count": 28,
   "metadata": {},
   "outputs": [
    {
     "data": {
      "text/plain": [
       "8"
      ]
     },
     "execution_count": 28,
     "metadata": {},
     "output_type": "execute_result"
    }
   ],
   "source": [
    "len(linha_indices)"
   ]
  },
  {
   "cell_type": "code",
   "execution_count": 31,
   "metadata": {},
   "outputs": [
    {
     "data": {
      "text/plain": [
       "7"
      ]
     },
     "execution_count": 31,
     "metadata": {},
     "output_type": "execute_result"
    }
   ],
   "source": [
    "len(matrix)-1"
   ]
  },
  {
   "cell_type": "code",
   "execution_count": 30,
   "metadata": {},
   "outputs": [
    {
     "data": {
      "text/plain": [
       "3"
      ]
     },
     "execution_count": 30,
     "metadata": {},
     "output_type": "execute_result"
    }
   ],
   "source": [
    "len(matrix[0])-1"
   ]
  },
  {
   "cell_type": "code",
   "execution_count": 33,
   "metadata": {},
   "outputs": [
    {
     "data": {
      "text/plain": [
       "[[1, 1, 1, 1],\n",
       " [1, 0, 1, 1],\n",
       " [1, 1, 0, 1],\n",
       " [0, 1, 1, 1],\n",
       " [1, 1, 0, 1],\n",
       " [1, 1, 1, 0],\n",
       " [1, 0, 1, 0],\n",
       " [1, 0, 0, 1]]"
      ]
     },
     "execution_count": 33,
     "metadata": {},
     "output_type": "execute_result"
    }
   ],
   "source": [
    "matrix = [[1] * 4 for _ in range(8)]\n",
    "matrix[1][1] = 0\n",
    "matrix[2][2] = 0\n",
    "matrix[3][0] = 0\n",
    "matrix[4][2] = 0\n",
    "matrix[5][3] = 0\n",
    "matrix[6][1] = 0\n",
    "matrix[6][3] = 0\n",
    "matrix[7][1] = 0\n",
    "matrix[7][2] = 0\n",
    "\n",
    "matrix"
   ]
  },
  {
   "cell_type": "code",
   "execution_count": 34,
   "metadata": {},
   "outputs": [],
   "source": [
    "resultado.clear()"
   ]
  },
  {
   "cell_type": "code",
   "execution_count": 35,
   "metadata": {},
   "outputs": [
    {
     "data": {
      "text/plain": [
       "[]"
      ]
     },
     "execution_count": 35,
     "metadata": {},
     "output_type": "execute_result"
    }
   ],
   "source": [
    "resultado"
   ]
  },
  {
   "cell_type": "code",
   "execution_count": 36,
   "metadata": {},
   "outputs": [],
   "source": [
    "resultado = None"
   ]
  },
  {
   "cell_type": "code",
   "execution_count": 37,
   "metadata": {},
   "outputs": [],
   "source": [
    "resultado"
   ]
  },
  {
   "cell_type": "code",
   "execution_count": null,
   "metadata": {},
   "outputs": [],
   "source": []
  }
 ],
 "metadata": {
  "kernelspec": {
   "display_name": "Python 3",
   "language": "python",
   "name": "python3"
  },
  "language_info": {
   "codemirror_mode": {
    "name": "ipython",
    "version": 3
   },
   "file_extension": ".py",
   "mimetype": "text/x-python",
   "name": "python",
   "nbconvert_exporter": "python",
   "pygments_lexer": "ipython3",
   "version": "3.6.5"
  }
 },
 "nbformat": 4,
 "nbformat_minor": 2
}
