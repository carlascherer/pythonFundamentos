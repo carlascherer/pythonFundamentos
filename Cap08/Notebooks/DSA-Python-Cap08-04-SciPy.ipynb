{
 "cells": [
  {
   "cell_type": "markdown",
   "metadata": {},
   "source": [
    "# <font color='blue'>Data Science Academy - Python Fundamentos - Capítulo 8</font>\n",
    "\n",
    "## Download: http://github.com/dsacademybr"
   ]
  },
  {
   "cell_type": "markdown",
   "metadata": {},
   "source": [
    "## SciPy\n",
    "\n",
    "Para compreender o SciPy é necessário compreender conceitos avançados de Matemática e Estatística, o que está fora do escopo deste treinamento. Caso queira aprender aplicações práticas do pacote em Machine Learning e IA, consulte estes dois cursos aqui na DSA:\n",
    "\n",
    "Machine Learning: https://www.datascienceacademy.com.br/pages/curso-machine-learning\n",
    "\n",
    "Programação Paralela em GPU: https://www.datascienceacademy.com.br/pages/curso-programacao-paralela-em-gpu"
   ]
  },
  {
   "cell_type": "markdown",
   "metadata": {},
   "source": [
    "### O SciPy possui um conjunto de pacotes para operações matemáticas e científicas"
   ]
  },
  {
   "cell_type": "markdown",
   "metadata": {},
   "source": [
    "<table class=\"ArticleTableNoBorder\">\n",
    "\t<tbody>\n",
    "\t\t<tr>\n",
    "\t\t\t<td><strong>Pacote</strong></td>\n",
    "\t\t\t<td><strong>Descrição</strong></td>\n",
    "\t\t</tr>\n",
    "\t\t<tr>\n",
    "\t\t\t<td><code>cluster</code></td>\n",
    "\t\t\t<td>Clustering algorithms</td>\n",
    "\t\t</tr>\n",
    "\t\t<tr>\n",
    "\t\t\t<td><code>constants</code></td>\n",
    "\t\t\t<td>Mathematical and physical constants</td>\n",
    "\t\t</tr>\n",
    "\t\t<tr>\n",
    "\t\t\t<td><code>fftpack</code></td>\n",
    "\t\t\t<td>Fourier transforms</td>\n",
    "\t\t</tr>\n",
    "\t\t<tr>\n",
    "\t\t\t<td><code>integrate</code></td>\n",
    "\t\t\t<td>Numerical integration</td>\n",
    "\t\t</tr>\n",
    "\t\t<tr>\n",
    "\t\t\t<td><code>interpolate</code></td>\n",
    "\t\t\t<td>Interpolation</td>\n",
    "\t\t</tr>\n",
    "\t\t<tr>\n",
    "\t\t\t<td><code>io</code></td>\n",
    "\t\t\t<td>Input and output</td>\n",
    "\t\t</tr>\n",
    "\t\t<tr>\n",
    "\t\t\t<td><code>linalg</code></td>\n",
    "\t\t\t<td>Linear algebra</td>\n",
    "\t\t</tr>\n",
    "\t\t<tr>\n",
    "\t\t\t<td><code>maxentropy</code></td>\n",
    "\t\t\t<td>Maximum entropy models</td>\n",
    "\t\t</tr>\n",
    "\t\t<tr>\n",
    "\t\t\t<td><code>misc</code></td>\n",
    "\t\t\t<td>Miscellaneous</td>\n",
    "\t\t</tr>\n",
    "\t\t<tr>\n",
    "\t\t\t<td><code>ndimage</code></td>\n",
    "\t\t\t<td>Multi-dimensional image processing</td>\n",
    "\t\t</tr>\n",
    "\t\t<tr>\n",
    "\t\t\t<td><code>odr</code></td>\n",
    "\t\t\t<td>Orthogonal distance regression</td>\n",
    "\t\t</tr>\n",
    "\t\t<tr>\n",
    "\t\t\t<td><code>optimize</code></td>\n",
    "\t\t\t<td>Optimization</td>\n",
    "\t\t</tr>\n",
    "\t\t<tr>\n",
    "\t\t\t<td><code>signal</code></td>\n",
    "\t\t\t<td>Signal processing</td>\n",
    "\t\t</tr>\n",
    "\t\t<tr>\n",
    "\t\t\t<td><code>sparse</code></td>\n",
    "\t\t\t<td>Sparse matrices</td>\n",
    "\t\t</tr>\n",
    "\t\t<tr>\n",
    "\t\t\t<td><code>spatial</code></td>\n",
    "\t\t\t<td>Spatial algorithms and data structures</td>\n",
    "\t\t</tr>\n",
    "\t\t<tr>\n",
    "\t\t\t<td><code>special</code></td>\n",
    "\t\t\t<td>Special functions</td>\n",
    "\t\t</tr>\n",
    "\t\t<tr>\n",
    "\t\t\t<td><code>stats</code></td>\n",
    "\t\t\t<td>Statistical functions</td>\n",
    "\t\t</tr>\n",
    "\t\t<tr>\n",
    "\t\t\t<td><code>stsci</code></td>\n",
    "\t\t\t<td>Image processing</td>\n",
    "\t\t</tr>\n",
    "\t\t<tr>\n",
    "\t\t\t<td><code>weave</code></td>\n",
    "\t\t\t<td>C/C++ integration</td>\n",
    "\t\t</tr>\n",
    "\t</tbody>\n",
    "</table>\n"
   ]
  },
  {
   "cell_type": "markdown",
   "metadata": {},
   "source": [
    "## Processamento de imagens"
   ]
  },
  {
   "cell_type": "code",
   "execution_count": 13,
   "metadata": {},
   "outputs": [
    {
     "name": "stderr",
     "output_type": "stream",
     "text": [
      "C:\\Users\\carla\\Anaconda3\\lib\\site-packages\\ipykernel_launcher.py:2: DeprecationWarning: `imread` is deprecated!\n",
      "`imread` is deprecated in SciPy 1.0.0, and will be removed in 1.2.0.\n",
      "Use ``imageio.imread`` instead.\n",
      "  \n"
     ]
    },
    {
     "data": {
      "text/plain": [
       "array([[[1., 1., 1., 1.],\n",
       "        [1., 1., 1., 1.],\n",
       "        [1., 1., 1., 1.],\n",
       "        ...,\n",
       "        [1., 1., 1., 1.],\n",
       "        [1., 1., 1., 1.],\n",
       "        [1., 1., 1., 1.]],\n",
       "\n",
       "       [[1., 1., 1., 1.],\n",
       "        [1., 1., 1., 1.],\n",
       "        [1., 1., 1., 1.],\n",
       "        ...,\n",
       "        [1., 1., 1., 1.],\n",
       "        [1., 1., 1., 1.],\n",
       "        [1., 1., 1., 1.]],\n",
       "\n",
       "       [[1., 1., 1., 1.],\n",
       "        [1., 1., 1., 1.],\n",
       "        [1., 1., 1., 1.],\n",
       "        ...,\n",
       "        [1., 1., 1., 1.],\n",
       "        [1., 1., 1., 1.],\n",
       "        [1., 1., 1., 1.]],\n",
       "\n",
       "       ...,\n",
       "\n",
       "       [[1., 1., 1., 1.],\n",
       "        [1., 1., 1., 1.],\n",
       "        [1., 1., 1., 1.],\n",
       "        ...,\n",
       "        [1., 1., 1., 1.],\n",
       "        [1., 1., 1., 1.],\n",
       "        [1., 1., 1., 1.]],\n",
       "\n",
       "       [[1., 1., 1., 1.],\n",
       "        [1., 1., 1., 1.],\n",
       "        [1., 1., 1., 1.],\n",
       "        ...,\n",
       "        [1., 1., 1., 1.],\n",
       "        [1., 1., 1., 1.],\n",
       "        [1., 1., 1., 1.]],\n",
       "\n",
       "       [[1., 1., 1., 1.],\n",
       "        [1., 1., 1., 1.],\n",
       "        [1., 1., 1., 1.],\n",
       "        ...,\n",
       "        [1., 1., 1., 1.],\n",
       "        [1., 1., 1., 1.],\n",
       "        [1., 1., 1., 1.]]], dtype=float32)"
      ]
     },
     "execution_count": 13,
     "metadata": {},
     "output_type": "execute_result"
    }
   ],
   "source": [
    "from scipy import misc\n",
    "misc.imread('Matplotlib-Mapa.png')    \n",
    "\n",
    "# Matplotlib tem uma função similar\n",
    "import matplotlib.pyplot as plt\n",
    "plt.imread('Matplotlib-Mapa.png')"
   ]
  },
  {
   "cell_type": "markdown",
   "metadata": {},
   "source": [
    "## Integração Numérica"
   ]
  },
  {
   "cell_type": "code",
   "execution_count": 14,
   "metadata": {},
   "outputs": [],
   "source": [
    "from numpy import *\n",
    "from scipy.integrate import quad, dblquad, tplquad"
   ]
  },
  {
   "cell_type": "code",
   "execution_count": 27,
   "metadata": {},
   "outputs": [
    {
     "data": {
      "image/png": "[encoded data removed]",
      "text/plain": [
       "<Figure size 432x288 with 1 Axes>"
      ]
     },
     "metadata": {},
     "output_type": "display_data"
    }
   ],
   "source": [
    "import matplotlib.pyplot as plt\n",
    "%matplotlib inline\n",
    "import numpy as np\n",
    "\n",
    "x = np.linspace(-10,10,1000)\n",
    "\n",
    "func = exp(-x ** 2)\n",
    "\n",
    "plt.plot(func)\n",
    "plt.show()"
   ]
  },
  {
   "cell_type": "code",
   "execution_count": 28,
   "metadata": {},
   "outputs": [
    {
     "data": {
      "text/plain": [
       "(0.8862269254527579, 7.101318390915439e-09)"
      ]
     },
     "execution_count": 28,
     "metadata": {},
     "output_type": "execute_result"
    }
   ],
   "source": [
    "# Integração\n",
    "val, abserr = quad(lambda x: exp(-x ** 2),  0, Inf)\n",
    "val, abserr"
   ]
  },
  {
   "cell_type": "code",
   "execution_count": 29,
   "metadata": {},
   "outputs": [],
   "source": [
    "from scipy.integrate import odeint, ode"
   ]
  },
  {
   "cell_type": "code",
   "execution_count": 34,
   "metadata": {},
   "outputs": [
    {
     "name": "stdout",
     "output_type": "stream",
     "text": [
      "Help on function odeint in module scipy.integrate.odepack:\n",
      "\n",
      "odeint(func, y0, t, args=(), Dfun=None, col_deriv=0, full_output=0, ml=None, mu=None, rtol=None, atol=None, tcrit=None, h0=0.0, hmax=0.0, hmin=0.0, ixpr=0, mxstep=0, mxhnil=0, mxordn=12, mxords=5, printmessg=0, tfirst=False)\n",
      "    Integrate a system of ordinary differential equations.\n",
      "    \n",
      "    .. note:: For new code, use `scipy.integrate.solve_ivp` to solve a\n",
      "              differential equation.\n",
      "    \n",
      "    Solve a system of ordinary differential equations using lsoda from the\n",
      "    FORTRAN library odepack.\n",
      "    \n",
      "    Solves the initial value problem for stiff or non-stiff systems\n",
      "    of first order ode-s::\n",
      "    \n",
      "        dy/dt = func(y, t, ...)  [or func(t, y, ...)]\n",
      "    \n",
      "    where y can be a vector.\n",
      "    \n",
      "    .. note:: By default, the required order of the first two arguments of\n",
      "              `func` are in the opposite order of the arguments in the system\n",
      "              definition function used by the `scipy.integrate.ode` class and\n",
      "              the function `scipy.integrate.solve_ivp`.  To use a function with\n",
      "              the signature ``func(t, y, ...)``, the argument `tfirst` must be\n",
      "              set to ``True``.\n",
      "    \n",
      "    Parameters\n",
      "    ----------\n",
      "    func : callable(y, t, ...) or callable(t, y, ...)\n",
      "        Computes the derivative of y at t.\n",
      "        If the signature is ``callable(t, y, ...)``, then the argument\n",
      "        `tfirst` must be set ``True``.\n",
      "    y0 : array\n",
      "        Initial condition on y (can be a vector).\n",
      "    t : array\n",
      "        A sequence of time points for which to solve for y.  The initial\n",
      "        value point should be the first element of this sequence.\n",
      "    args : tuple, optional\n",
      "        Extra arguments to pass to function.\n",
      "    Dfun : callable(y, t, ...) or callable(t, y, ...)\n",
      "        Gradient (Jacobian) of `func`.\n",
      "        If the signature is ``callable(t, y, ...)``, then the argument\n",
      "        `tfirst` must be set ``True``.\n",
      "    col_deriv : bool, optional\n",
      "        True if `Dfun` defines derivatives down columns (faster),\n",
      "        otherwise `Dfun` should define derivatives across rows.\n",
      "    full_output : bool, optional\n",
      "        True if to return a dictionary of optional outputs as the second output\n",
      "    printmessg : bool, optional\n",
      "        Whether to print the convergence message\n",
      "    tfirst: bool, optional\n",
      "        If True, the first two arguments of `func` (and `Dfun`, if given)\n",
      "        must ``t, y`` instead of the default ``y, t``.\n",
      "    \n",
      "        .. versionadded:: 1.1.0\n",
      "    \n",
      "    Returns\n",
      "    -------\n",
      "    y : array, shape (len(t), len(y0))\n",
      "        Array containing the value of y for each desired time in t,\n",
      "        with the initial value `y0` in the first row.\n",
      "    infodict : dict, only returned if full_output == True\n",
      "        Dictionary containing additional output information\n",
      "    \n",
      "        =======  ============================================================\n",
      "        key      meaning\n",
      "        =======  ============================================================\n",
      "        'hu'     vector of step sizes successfully used for each time step.\n",
      "        'tcur'   vector with the value of t reached for each time step.\n",
      "                 (will always be at least as large as the input times).\n",
      "        'tolsf'  vector of tolerance scale factors, greater than 1.0,\n",
      "                 computed when a request for too much accuracy was detected.\n",
      "        'tsw'    value of t at the time of the last method switch\n",
      "                 (given for each time step)\n",
      "        'nst'    cumulative number of time steps\n",
      "        'nfe'    cumulative number of function evaluations for each time step\n",
      "        'nje'    cumulative number of jacobian evaluations for each time step\n",
      "        'nqu'    a vector of method orders for each successful step.\n",
      "        'imxer'  index of the component of largest magnitude in the\n",
      "                 weighted local error vector (e / ewt) on an error return, -1\n",
      "                 otherwise.\n",
      "        'lenrw'  the length of the double work array required.\n",
      "        'leniw'  the length of integer work array required.\n",
      "        'mused'  a vector of method indicators for each successful time step:\n",
      "                 1: adams (nonstiff), 2: bdf (stiff)\n",
      "        =======  ============================================================\n",
      "    \n",
      "    Other Parameters\n",
      "    ----------------\n",
      "    ml, mu : int, optional\n",
      "        If either of these are not None or non-negative, then the\n",
      "        Jacobian is assumed to be banded.  These give the number of\n",
      "        lower and upper non-zero diagonals in this banded matrix.\n",
      "        For the banded case, `Dfun` should return a matrix whose\n",
      "        rows contain the non-zero bands (starting with the lowest diagonal).\n",
      "        Thus, the return matrix `jac` from `Dfun` should have shape\n",
      "        ``(ml + mu + 1, len(y0))`` when ``ml >=0`` or ``mu >=0``.\n",
      "        The data in `jac` must be stored such that ``jac[i - j + mu, j]``\n",
      "        holds the derivative of the `i`th equation with respect to the `j`th\n",
      "        state variable.  If `col_deriv` is True, the transpose of this\n",
      "        `jac` must be returned.\n",
      "    rtol, atol : float, optional\n",
      "        The input parameters `rtol` and `atol` determine the error\n",
      "        control performed by the solver.  The solver will control the\n",
      "        vector, e, of estimated local errors in y, according to an\n",
      "        inequality of the form ``max-norm of (e / ewt) <= 1``,\n",
      "        where ewt is a vector of positive error weights computed as\n",
      "        ``ewt = rtol * abs(y) + atol``.\n",
      "        rtol and atol can be either vectors the same length as y or scalars.\n",
      "        Defaults to 1.49012e-8.\n",
      "    tcrit : ndarray, optional\n",
      "        Vector of critical points (e.g. singularities) where integration\n",
      "        care should be taken.\n",
      "    h0 : float, (0: solver-determined), optional\n",
      "        The step size to be attempted on the first step.\n",
      "    hmax : float, (0: solver-determined), optional\n",
      "        The maximum absolute step size allowed.\n",
      "    hmin : float, (0: solver-determined), optional\n",
      "        The minimum absolute step size allowed.\n",
      "    ixpr : bool, optional\n",
      "        Whether to generate extra printing at method switches.\n",
      "    mxstep : int, (0: solver-determined), optional\n",
      "        Maximum number of (internally defined) steps allowed for each\n",
      "        integration point in t.\n",
      "    mxhnil : int, (0: solver-determined), optional\n",
      "        Maximum number of messages printed.\n",
      "    mxordn : int, (0: solver-determined), optional\n",
      "        Maximum order to be allowed for the non-stiff (Adams) method.\n",
      "    mxords : int, (0: solver-determined), optional\n",
      "        Maximum order to be allowed for the stiff (BDF) method.\n",
      "    \n",
      "    See Also\n",
      "    --------\n",
      "    solve_ivp : Solve an initial value problem for a system of ODEs.\n",
      "    ode : a more object-oriented integrator based on VODE.\n",
      "    quad : for finding the area under a curve.\n",
      "    \n",
      "    Examples\n",
      "    --------\n",
      "    The second order differential equation for the angle `theta` of a\n",
      "    pendulum acted on by gravity with friction can be written::\n",
      "    \n",
      "        theta''(t) + b*theta'(t) + c*sin(theta(t)) = 0\n",
      "    \n",
      "    where `b` and `c` are positive constants, and a prime (') denotes a\n",
      "    derivative.  To solve this equation with `odeint`, we must first convert\n",
      "    it to a system of first order equations.  By defining the angular\n",
      "    velocity ``omega(t) = theta'(t)``, we obtain the system::\n",
      "    \n",
      "        theta'(t) = omega(t)\n",
      "        omega'(t) = -b*omega(t) - c*sin(theta(t))\n",
      "    \n",
      "    Let `y` be the vector [`theta`, `omega`].  We implement this system\n",
      "    in python as:\n",
      "    \n",
      "    >>> def pend(y, t, b, c):\n",
      "    ...     theta, omega = y\n",
      "    ...     dydt = [omega, -b*omega - c*np.sin(theta)]\n",
      "    ...     return dydt\n",
      "    ...\n",
      "    \n",
      "    We assume the constants are `b` = 0.25 and `c` = 5.0:\n",
      "    \n",
      "    >>> b = 0.25\n",
      "    >>> c = 5.0\n",
      "    \n",
      "    For initial conditions, we assume the pendulum is nearly vertical\n",
      "    with `theta(0)` = `pi` - 0.1, and is initially at rest, so\n",
      "    `omega(0)` = 0.  Then the vector of initial conditions is\n",
      "    \n",
      "    >>> y0 = [np.pi - 0.1, 0.0]\n",
      "    \n",
      "    We will generate a solution at 101 evenly spaced samples in the interval\n",
      "    0 <= `t` <= 10.  So our array of times is:\n",
      "    \n",
      "    >>> t = np.linspace(0, 10, 101)\n",
      "    \n",
      "    Call `odeint` to generate the solution.  To pass the parameters\n",
      "    `b` and `c` to `pend`, we give them to `odeint` using the `args`\n",
      "    argument.\n",
      "    \n",
      "    >>> from scipy.integrate import odeint\n",
      "    >>> sol = odeint(pend, y0, t, args=(b, c))\n",
      "    \n",
      "    The solution is an array with shape (101, 2).  The first column\n",
      "    is `theta(t)`, and the second is `omega(t)`.  The following code\n",
      "    plots both components.\n",
      "    \n",
      "    >>> import matplotlib.pyplot as plt\n",
      "    >>> plt.plot(t, sol[:, 0], 'b', label='theta(t)')\n",
      "    >>> plt.plot(t, sol[:, 1], 'g', label='omega(t)')\n",
      "    >>> plt.legend(loc='best')\n",
      "    >>> plt.xlabel('t')\n",
      "    >>> plt.grid()\n",
      "    >>> plt.show()\n",
      "\n"
     ]
    }
   ],
   "source": [
    "help(odeint)"
   ]
  },
  {
   "cell_type": "code",
   "execution_count": 32,
   "metadata": {},
   "outputs": [],
   "source": [
    "from pylab import *\n",
    "%matplotlib inline"
   ]
  },
  {
   "cell_type": "code",
   "execution_count": 33,
   "metadata": {},
   "outputs": [
    {
     "data": {
      "image/png": "[encoded data removed]",
      "text/plain": [
       "<Figure size 432x288 with 1 Axes>"
      ]
     },
     "metadata": {},
     "output_type": "display_data"
    }
   ],
   "source": [
    "def dy(y, t, zeta, w0):\n",
    "    x, p = y[0], y[1]\n",
    "    \n",
    "    dx = p\n",
    "    dp = -2 * zeta * w0 * p - w0**2 * x\n",
    "\n",
    "    return [dx, dp]\n",
    "\n",
    "\n",
    "y0 = [1.0, 0.0]\n",
    "\n",
    "t = linspace(0, 10, 1000)\n",
    "w0 = 2*pi*1.0\n",
    "\n",
    "\n",
    "y1 = odeint(dy, y0, t, args=(0.0, w0)) \n",
    "y2 = odeint(dy, y0, t, args=(0.2, w0)) \n",
    "y3 = odeint(dy, y0, t, args=(1.0, w0)) \n",
    "y4 = odeint(dy, y0, t, args=(5.0, w0)) \n",
    "\n",
    "fig, ax = subplots()\n",
    "ax.plot(t, y1[:,0], 'k', label=\"Não Abafado\", linewidth=0.25)\n",
    "ax.plot(t, y2[:,0], 'r', label=\"Pouco Abafado\")\n",
    "ax.plot(t, y3[:,0], 'b', label=\"Criticamente Abafado\")\n",
    "ax.plot(t, y4[:,0], 'g', label=\"Perigosamente Abafado\")\n",
    "ax.legend();"
   ]
  },
  {
   "cell_type": "markdown",
   "metadata": {},
   "source": [
    "## Fourier Transformation"
   ]
  },
  {
   "cell_type": "code",
   "execution_count": 35,
   "metadata": {},
   "outputs": [],
   "source": [
    "from scipy.fftpack import *"
   ]
  },
  {
   "cell_type": "code",
   "execution_count": 39,
   "metadata": {},
   "outputs": [
    {
     "data": {
      "image/png": "[encoded data removed]",
      "text/plain": [
       "<Figure size 648x216 with 1 Axes>"
      ]
     },
     "metadata": {},
     "output_type": "display_data"
    }
   ],
   "source": [
    "# Fourier transformation\n",
    "N = len(t)\n",
    "dt = t[1]-t[0]\n",
    "\n",
    "F = fft(y2[:,0]) \n",
    "\n",
    "w = fftfreq(N, dt)\n",
    "\n",
    "fig, ax = subplots(figsize=(9,3))\n",
    "ax.plot(w, abs(F));"
   ]
  },
  {
   "cell_type": "markdown",
   "metadata": {},
   "source": [
    "### Álgebra Linear"
   ]
  },
  {
   "cell_type": "code",
   "execution_count": 44,
   "metadata": {},
   "outputs": [
    {
     "data": {
      "text/plain": [
       "(array([[1, 2, 1],\n",
       "        [4, 5, 6],\n",
       "        [7, 8, 9]]), array([1, 2, 3]))"
      ]
     },
     "execution_count": 44,
     "metadata": {},
     "output_type": "execute_result"
    }
   ],
   "source": [
    "A = array([[1,2,1], [4,5,6], [7,8,9]])\n",
    "b = array([1,2,3])\n",
    "A, b"
   ]
  },
  {
   "cell_type": "code",
   "execution_count": 45,
   "metadata": {},
   "outputs": [
    {
     "data": {
      "text/plain": [
       "array([-0.33333333,  0.66666667,  0.        ])"
      ]
     },
     "execution_count": 45,
     "metadata": {},
     "output_type": "execute_result"
    }
   ],
   "source": [
    "# Resolvendo um sistema de equações lineares\n",
    "x = solve(A, b)\n",
    "x"
   ]
  },
  {
   "cell_type": "code",
   "execution_count": 47,
   "metadata": {},
   "outputs": [
    {
     "data": {
      "text/plain": [
       "array([ 1.36212058, -0.15736558,  0.4477748 ])"
      ]
     },
     "execution_count": 47,
     "metadata": {},
     "output_type": "execute_result"
    }
   ],
   "source": [
    "A = rand(3,3)\n",
    "B = rand(3,3)\n",
    "\n",
    "evals, evecs = eig(A)\n",
    "\n",
    "evals"
   ]
  },
  {
   "cell_type": "code",
   "execution_count": 50,
   "metadata": {},
   "outputs": [
    {
     "name": "stdout",
     "output_type": "stream",
     "text": [
      "Help on function svd in module numpy.linalg:\n",
      "\n",
      "svd(a, full_matrices=True, compute_uv=True, hermitian=False)\n",
      "    Singular Value Decomposition.\n",
      "    \n",
      "    When `a` is a 2D array, it is factorized as ``u @ np.diag(s) @ vh\n",
      "    = (u * s) @ vh``, where `u` and `vh` are 2D unitary arrays and `s` is a 1D\n",
      "    array of `a`'s singular values. When `a` is higher-dimensional, SVD is\n",
      "    applied in stacked mode as explained below.\n",
      "    \n",
      "    Parameters\n",
      "    ----------\n",
      "    a : (..., M, N) array_like\n",
      "        A real or complex array with ``a.ndim >= 2``.\n",
      "    full_matrices : bool, optional\n",
      "        If True (default), `u` and `vh` have the shapes ``(..., M, M)`` and\n",
      "        ``(..., N, N)``, respectively.  Otherwise, the shapes are\n",
      "        ``(..., M, K)`` and ``(..., K, N)``, respectively, where\n",
      "        ``K = min(M, N)``.\n",
      "    compute_uv : bool, optional\n",
      "        Whether or not to compute `u` and `vh` in addition to `s`.  True\n",
      "        by default.\n",
      "    hermitian : bool, optional\n",
      "        If True, `a` is assumed to be Hermitian (symmetric if real-valued),\n",
      "        enabling a more efficient method for finding singular values.\n",
      "        Defaults to False.\n",
      "    \n",
      "        .. versionadded:: 1.17.0\n",
      "    \n",
      "    Returns\n",
      "    -------\n",
      "    u : { (..., M, M), (..., M, K) } array\n",
      "        Unitary array(s). The first ``a.ndim - 2`` dimensions have the same\n",
      "        size as those of the input `a`. The size of the last two dimensions\n",
      "        depends on the value of `full_matrices`. Only returned when\n",
      "        `compute_uv` is True.\n",
      "    s : (..., K) array\n",
      "        Vector(s) with the singular values, within each vector sorted in\n",
      "        descending order. The first ``a.ndim - 2`` dimensions have the same\n",
      "        size as those of the input `a`.\n",
      "    vh : { (..., N, N), (..., K, N) } array\n",
      "        Unitary array(s). The first ``a.ndim - 2`` dimensions have the same\n",
      "        size as those of the input `a`. The size of the last two dimensions\n",
      "        depends on the value of `full_matrices`. Only returned when\n",
      "        `compute_uv` is True.\n",
      "    \n",
      "    Raises\n",
      "    ------\n",
      "    LinAlgError\n",
      "        If SVD computation does not converge.\n",
      "    \n",
      "    Notes\n",
      "    -----\n",
      "    \n",
      "    .. versionchanged:: 1.8.0\n",
      "       Broadcasting rules apply, see the `numpy.linalg` documentation for\n",
      "       details.\n",
      "    \n",
      "    The decomposition is performed using LAPACK routine ``_gesdd``.\n",
      "    \n",
      "    SVD is usually described for the factorization of a 2D matrix :math:`A`.\n",
      "    The higher-dimensional case will be discussed below. In the 2D case, SVD is\n",
      "    written as :math:`A = U S V^H`, where :math:`A = a`, :math:`U= u`,\n",
      "    :math:`S= \\mathtt{np.diag}(s)` and :math:`V^H = vh`. The 1D array `s`\n",
      "    contains the singular values of `a` and `u` and `vh` are unitary. The rows\n",
      "    of `vh` are the eigenvectors of :math:`A^H A` and the columns of `u` are\n",
      "    the eigenvectors of :math:`A A^H`. In both cases the corresponding\n",
      "    (possibly non-zero) eigenvalues are given by ``s**2``.\n",
      "    \n",
      "    If `a` has more than two dimensions, then broadcasting rules apply, as\n",
      "    explained in :ref:`routines.linalg-broadcasting`. This means that SVD is\n",
      "    working in \"stacked\" mode: it iterates over all indices of the first\n",
      "    ``a.ndim - 2`` dimensions and for each combination SVD is applied to the\n",
      "    last two indices. The matrix `a` can be reconstructed from the\n",
      "    decomposition with either ``(u * s[..., None, :]) @ vh`` or\n",
      "    ``u @ (s[..., None] * vh)``. (The ``@`` operator can be replaced by the\n",
      "    function ``np.matmul`` for python versions below 3.5.)\n",
      "    \n",
      "    If `a` is a ``matrix`` object (as opposed to an ``ndarray``), then so are\n",
      "    all the return values.\n",
      "    \n",
      "    Examples\n",
      "    --------\n",
      "    >>> a = np.random.randn(9, 6) + 1j*np.random.randn(9, 6)\n",
      "    >>> b = np.random.randn(2, 7, 8, 3) + 1j*np.random.randn(2, 7, 8, 3)\n",
      "    \n",
      "    Reconstruction based on full SVD, 2D case:\n",
      "    \n",
      "    >>> u, s, vh = np.linalg.svd(a, full_matrices=True)\n",
      "    >>> u.shape, s.shape, vh.shape\n",
      "    ((9, 9), (6,), (6, 6))\n",
      "    >>> np.allclose(a, np.dot(u[:, :6] * s, vh))\n",
      "    True\n",
      "    >>> smat = np.zeros((9, 6), dtype=complex)\n",
      "    >>> smat[:6, :6] = np.diag(s)\n",
      "    >>> np.allclose(a, np.dot(u, np.dot(smat, vh)))\n",
      "    True\n",
      "    \n",
      "    Reconstruction based on reduced SVD, 2D case:\n",
      "    \n",
      "    >>> u, s, vh = np.linalg.svd(a, full_matrices=False)\n",
      "    >>> u.shape, s.shape, vh.shape\n",
      "    ((9, 6), (6,), (6, 6))\n",
      "    >>> np.allclose(a, np.dot(u * s, vh))\n",
      "    True\n",
      "    >>> smat = np.diag(s)\n",
      "    >>> np.allclose(a, np.dot(u, np.dot(smat, vh)))\n",
      "    True\n",
      "    \n",
      "    Reconstruction based on full SVD, 4D case:\n",
      "    \n",
      "    >>> u, s, vh = np.linalg.svd(b, full_matrices=True)\n",
      "    >>> u.shape, s.shape, vh.shape\n",
      "    ((2, 7, 8, 8), (2, 7, 3), (2, 7, 3, 3))\n",
      "    >>> np.allclose(b, np.matmul(u[..., :3] * s[..., None, :], vh))\n",
      "    True\n",
      "    >>> np.allclose(b, np.matmul(u[..., :3], s[..., None] * vh))\n",
      "    True\n",
      "    \n",
      "    Reconstruction based on reduced SVD, 4D case:\n",
      "    \n",
      "    >>> u, s, vh = np.linalg.svd(b, full_matrices=False)\n",
      "    >>> u.shape, s.shape, vh.shape\n",
      "    ((2, 7, 8, 3), (2, 7, 3), (2, 7, 3, 3))\n",
      "    >>> np.allclose(b, np.matmul(u * s[..., None, :], vh))\n",
      "    True\n",
      "    >>> np.allclose(b, np.matmul(u, s[..., None] * vh))\n",
      "    True\n",
      "\n"
     ]
    }
   ],
   "source": [
    "evecs\n",
    "help(svd)"
   ]
  },
  {
   "cell_type": "code",
   "execution_count": 49,
   "metadata": {},
   "outputs": [
    {
     "data": {
      "text/plain": [
       "(array([[-0.32498473,  0.16974458, -0.93036106],\n",
       "        [-0.70321147, -0.70116891,  0.11771061],\n",
       "        [-0.63235951,  0.69249472,  0.34723553]]),\n",
       " array([1.41258711, 0.53344116, 0.1273747 ]),\n",
       " array([[-0.52613977, -0.59979795, -0.60284274],\n",
       "        [ 0.69896722, -0.70879189,  0.09517816],\n",
       "        [ 0.48437771,  0.3712903 , -0.7921627 ]]))"
      ]
     },
     "execution_count": 49,
     "metadata": {},
     "output_type": "execute_result"
    }
   ],
   "source": [
    "svd(A)"
   ]
  },
  {
   "cell_type": "code",
   "execution_count": 58,
   "metadata": {},
   "outputs": [
    {
     "data": {
      "text/plain": [
       "(array([[-0.33603684, -1.77974852, -0.32324413],\n",
       "        [-2.86206284, -0.06560491, -5.66823315],\n",
       "        [-0.61246756,  3.18517538,  1.39481441]]),\n",
       " array([[-3.60447094,  0.409596  ,  0.56741529],\n",
       "        [-7.67491925,  0.01509849,  3.7312072 ],\n",
       "        [-6.56958193, -0.20944132, -3.67263763]]))"
      ]
     },
     "execution_count": 58,
     "metadata": {},
     "output_type": "execute_result"
    }
   ],
   "source": [
    "L = np.array([[1,2,3],[4,2,8],[1,7,2]])\n",
    "U = np.array([[8,2,0],[1,1,3],[5,2,1]])\n",
    "\n",
    "evalsC, evecsC = eig(L)\n",
    "\n",
    "evalsC, evecsC\n",
    "\n",
    "teste1 = L*evecsC\n",
    "\n",
    "teste2 = evalsC*evecsC\n",
    "\n",
    "teste1, teste2"
   ]
  },
  {
   "cell_type": "markdown",
   "metadata": {},
   "source": [
    "### Otimização"
   ]
  },
  {
   "cell_type": "code",
   "execution_count": 59,
   "metadata": {},
   "outputs": [],
   "source": [
    "from scipy import optimize"
   ]
  },
  {
   "cell_type": "code",
   "execution_count": 60,
   "metadata": {},
   "outputs": [
    {
     "data": {
      "image/png": "[encoded data removed]",
      "text/plain": [
       "<Figure size 432x288 with 1 Axes>"
      ]
     },
     "metadata": {},
     "output_type": "display_data"
    }
   ],
   "source": [
    "def f(x):\n",
    "    return 4*x**3 + (x-2)**2 + x**4\n",
    "\n",
    "fig, ax  = subplots()\n",
    "x = linspace(-5, 3, 100)\n",
    "ax.plot(x, f(x));"
   ]
  },
  {
   "cell_type": "code",
   "execution_count": 61,
   "metadata": {},
   "outputs": [
    {
     "name": "stdout",
     "output_type": "stream",
     "text": [
      "Help on function fmin_bfgs in module scipy.optimize.optimize:\n",
      "\n",
      "fmin_bfgs(f, x0, fprime=None, args=(), gtol=1e-05, norm=inf, epsilon=1.4901161193847656e-08, maxiter=None, full_output=0, disp=1, retall=0, callback=None)\n",
      "    Minimize a function using the BFGS algorithm.\n",
      "    \n",
      "    Parameters\n",
      "    ----------\n",
      "    f : callable f(x,*args)\n",
      "        Objective function to be minimized.\n",
      "    x0 : ndarray\n",
      "        Initial guess.\n",
      "    fprime : callable f'(x,*args), optional\n",
      "        Gradient of f.\n",
      "    args : tuple, optional\n",
      "        Extra arguments passed to f and fprime.\n",
      "    gtol : float, optional\n",
      "        Gradient norm must be less than gtol before successful termination.\n",
      "    norm : float, optional\n",
      "        Order of norm (Inf is max, -Inf is min)\n",
      "    epsilon : int or ndarray, optional\n",
      "        If fprime is approximated, use this value for the step size.\n",
      "    callback : callable, optional\n",
      "        An optional user-supplied function to call after each\n",
      "        iteration.  Called as callback(xk), where xk is the\n",
      "        current parameter vector.\n",
      "    maxiter : int, optional\n",
      "        Maximum number of iterations to perform.\n",
      "    full_output : bool, optional\n",
      "        If True,return fopt, func_calls, grad_calls, and warnflag\n",
      "        in addition to xopt.\n",
      "    disp : bool, optional\n",
      "        Print convergence message if True.\n",
      "    retall : bool, optional\n",
      "        Return a list of results at each iteration if True.\n",
      "    \n",
      "    Returns\n",
      "    -------\n",
      "    xopt : ndarray\n",
      "        Parameters which minimize f, i.e. f(xopt) == fopt.\n",
      "    fopt : float\n",
      "        Minimum value.\n",
      "    gopt : ndarray\n",
      "        Value of gradient at minimum, f'(xopt), which should be near 0.\n",
      "    Bopt : ndarray\n",
      "        Value of 1/f''(xopt), i.e. the inverse hessian matrix.\n",
      "    func_calls : int\n",
      "        Number of function_calls made.\n",
      "    grad_calls : int\n",
      "        Number of gradient calls made.\n",
      "    warnflag : integer\n",
      "        1 : Maximum number of iterations exceeded.\n",
      "        2 : Gradient and/or function calls not changing.\n",
      "    allvecs  :  list\n",
      "        The value of xopt at each iteration.  Only returned if retall is True.\n",
      "    \n",
      "    See also\n",
      "    --------\n",
      "    minimize: Interface to minimization algorithms for multivariate\n",
      "        functions. See the 'BFGS' `method` in particular.\n",
      "    \n",
      "    Notes\n",
      "    -----\n",
      "    Optimize the function, f, whose gradient is given by fprime\n",
      "    using the quasi-Newton method of Broyden, Fletcher, Goldfarb,\n",
      "    and Shanno (BFGS)\n",
      "    \n",
      "    References\n",
      "    ----------\n",
      "    Wright, and Nocedal 'Numerical Optimization', 1999, pg. 198.\n",
      "\n"
     ]
    }
   ],
   "source": [
    "help(optimize.fmin_bfgs)"
   ]
  },
  {
   "cell_type": "code",
   "execution_count": 62,
   "metadata": {},
   "outputs": [
    {
     "name": "stdout",
     "output_type": "stream",
     "text": [
      "Optimization terminated successfully.\n",
      "         Current function value: 2.804988\n",
      "         Iterations: 4\n",
      "         Function evaluations: 18\n",
      "         Gradient evaluations: 6\n"
     ]
    },
    {
     "data": {
      "text/plain": [
       "array([0.46961743])"
      ]
     },
     "execution_count": 62,
     "metadata": {},
     "output_type": "execute_result"
    }
   ],
   "source": [
    "x_min = optimize.fmin_bfgs(f, -0.5)\n",
    "x_min"
   ]
  },
  {
   "cell_type": "markdown",
   "metadata": {},
   "source": [
    "### Estatística"
   ]
  },
  {
   "cell_type": "code",
   "execution_count": 63,
   "metadata": {},
   "outputs": [],
   "source": [
    "from scipy import stats"
   ]
  },
  {
   "cell_type": "code",
   "execution_count": 73,
   "metadata": {},
   "outputs": [
    {
     "name": "stdout",
     "output_type": "stream",
     "text": [
      "Help on method cdf in module scipy.stats._distn_infrastructure:\n",
      "\n",
      "cdf(x) method of scipy.stats._distn_infrastructure.rv_frozen instance\n",
      "\n"
     ]
    }
   ],
   "source": [
    "help(Y.cdf)"
   ]
  },
  {
   "cell_type": "code",
   "execution_count": 64,
   "metadata": {},
   "outputs": [
    {
     "data": {
      "image/png": "[encoded data removed]",
      "text/plain": [
       "<Figure size 432x288 with 3 Axes>"
      ]
     },
     "metadata": {},
     "output_type": "display_data"
    }
   ],
   "source": [
    "Y = stats.norm()\n",
    "\n",
    "x = linspace(-5,5,100)\n",
    "\n",
    "fig, axes = subplots(3,1, sharex=True)\n",
    "\n",
    "axes[0].plot(x, Y.pdf(x))\n",
    "\n",
    "axes[1].plot(x, Y.cdf(x));\n",
    "\n",
    "axes[2].hist(Y.rvs(size=1000), bins=50);"
   ]
  },
  {
   "cell_type": "code",
   "execution_count": 74,
   "metadata": {},
   "outputs": [
    {
     "data": {
      "text/plain": [
       "(0.0, 1.0, 1.0)"
      ]
     },
     "execution_count": 74,
     "metadata": {},
     "output_type": "execute_result"
    }
   ],
   "source": [
    "Y.mean(), Y.std(), Y.var()"
   ]
  },
  {
   "cell_type": "code",
   "execution_count": 75,
   "metadata": {},
   "outputs": [
    {
     "data": {
      "text/plain": [
       "(-0.44765851560490355, 0.654448195152755)"
      ]
     },
     "execution_count": 75,
     "metadata": {},
     "output_type": "execute_result"
    }
   ],
   "source": [
    "# T-test\n",
    "t_statistic, p_value = stats.ttest_ind(Y.rvs(size=1000), Y.rvs(size=1000))\n",
    "t_statistic, p_value"
   ]
  },
  {
   "cell_type": "markdown",
   "metadata": {},
   "source": [
    "# Fim"
   ]
  },
  {
   "cell_type": "markdown",
   "metadata": {},
   "source": [
    "### Obrigado - Data Science Academy - <a href=\"http://facebook.com/dsacademybr\">facebook.com/dsacademybr</a>"
   ]
  }
 ],
 "metadata": {
  "kernelspec": {
   "display_name": "Python 3",
   "language": "python",
   "name": "python3"
  },
  "language_info": {
   "codemirror_mode": {
    "name": "ipython",
    "version": 3
   },
   "file_extension": ".py",
   "mimetype": "text/x-python",
   "name": "python",
   "nbconvert_exporter": "python",
   "pygments_lexer": "ipython3",
   "version": "3.6.5"
  }
 },
 "nbformat": 4,
 "nbformat_minor": 1
}
